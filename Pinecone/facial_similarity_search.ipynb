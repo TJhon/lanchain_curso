{
  "cells": [
    {
      "cell_type": "markdown",
      "metadata": {},
      "source": [
        "# Facial Similarity Search\n",
        "\n",
        "In this lesson, you will have fun with the age old question of to which parent the child looks the most similar. To do this, you'll answer the question by using vector embeddings. You'll use a freely available image data set, in particular when it's a british royal family, and use science to determine if Prince William looks more like King Charles or Princess Diana. It's simple and extensible enough for you to try on your own family pictures. \n",
        "\n",
        "We're going to build a facial similarity search system to compute which parent looks most like their child. So we'll take a father, we'll take a mother, and we'll take one child and see whether the child looks more like their father or more like their mother. The person that looks the closest will be based upon the highest average score between each parent and child. \n",
        "\n",
        "\n",
        "\n",
        "\n",
        "\n",
        "We're going to use the deepface open source library with a facenet model inside of it that's 128 dimensions wide. So, to begin with, we'll importing our warnings to stop the warnings from showing up, as well as a slightly longer list of imports into the notebook. And then we will get our Pine cone API key. \n"
      ]
    },
    {
      "cell_type": "code",
      "metadata": {},
      "source": [
        "import warnings\n",
        "warnings.filterwarnings('ignore')\n",
        "\n",
        "from deepface import DeepFace\n",
        "from pinecone import Pinecone, ServerlessSpec\n",
        "from sklearn.decomposition import PCA\n",
        "from sklearn.manifold import TSNE\n",
        "from tqdm import tqdm\n",
        "\n",
        "from google.colab import userdata\n",
        "\n",
        "import contextlib\n",
        "import glob\n",
        "import matplotlib.pyplot as plt\n",
        "import numpy as np\n",
        "import os\n",
        "import pandas as pd\n",
        "import time\n",
        "\n",
        "PINECONE_API_KEY = userdata.get('PINECONE_API_KEY')"
      ],
      "execution_count": null,
      "outputs": []
    },
    {
      "cell_type": "markdown",
      "metadata": {},
      "source": [
        "And the data set that we're going to use came from the families in the wild data set, \n",
        "which I'll have a link to in the lesson here. \n",
        "\n",
        "I will not make you sit there and watch me download the data. But similar parameters to WGet. Make it quiet, show the progress. I'll put the file name as family, underscore photos, zip, and pull it off of the location that I've specified here. And you run that. And then we will unzip the photos as well. Okay, perfect. Make sure that you run the query like this.\n",
        "\n",
        "And the family photos zip file has a structure of family as a top level directory with subdirectories of dad, mom and child each. "
      ]
    },
    {
      "cell_type": "code",
      "metadata": {},
      "source": [
        "!wget -q --show-progress -O family_photos.zip \"https://www.dropbox.com/scl/fi/yg0f2ynbzzd2q4nsweti5/family_photos.zip?rlkey=00oeuiii3jgapz2b1bfj0vzys&dl=0\"\n",
        "\n",
        "!unzip -q family_photos.zip\n",
        "\n",
        "dir family_photos"
      ],
      "execution_count": null,
      "outputs": []
    },
    {
      "cell_type": "markdown",
      "metadata": {},
      "source": [
        "So the way that it's going to work is the user is going to run images of King Charles, Princess Diana and Prince William through the deepface model that we're going to use, and we're going to store those vector embeddings in Pinecone. The way that we're going to calculate similarity is we're going to run images of King Charles and Princess Diana and Prince William through the deepface model that we're going to use and store those values in pine cone. Then we'll calculate similarity scores for the mother and the child and the father and the child and see based on an average, who looks more like each other. \n",
        "\n",
        "\n",
        "So let's actually look at some of the pictures. I've created a small helper function to help you see the photos called show underscore image. \n",
        "\n",
        "That's an image of King Charles. "
      ]
    },
    {
      "cell_type": "code",
      "metadata": {},
      "source": [
        "def show_img(f):\n",
        "  img = plt.imread(f)\n",
        "  plt.figure(figsize=(4,3))\n",
        "  plt.imshow(img)\n",
        "# data\n",
        "show_img('family/dad/P06260_face5.jpg')"
      ],
      "execution_count": null,
      "outputs": []
    },
    {
      "cell_type": "markdown",
      "metadata": {},
      "source": [
        "Let's do the same thing for Princess Diana. "
      ]
    },
    {
      "cell_type": "code",
      "metadata": {},
      "source": [
        "# mon\n",
        "show_img('family/mom/P04407_face2.jpg')"
      ],
      "execution_count": null,
      "outputs": []
    },
    {
      "cell_type": "markdown",
      "metadata": {},
      "source": [
        "And same thing for Prince William. "
      ]
    },
    {
      "cell_type": "code",
      "metadata": {},
      "source": [
        "show_img('family/child/P04414_face1.jpg')"
      ],
      "execution_count": null,
      "outputs": []
    },
    {
      "cell_type": "markdown",
      "metadata": {},
      "source": [
        "And now we're going to set up Pine cone. So same as before, we're going to create our index name using the deep learning AI utilities package, get a pointer to our pine cone instance and run that. \n",
        "\n",
        "And now we're going to create our vector embeddings inside of Pine cone. "
      ]
    },
    {
      "cell_type": "code",
      "metadata": {},
      "source": [
        "MODEL = 'Facenet'\n",
        "INDEX_NAME = 'facenet'\n",
        "\n",
        "pinecone = Pinecone(api_key=PINECONE_API_KEY)"
      ],
      "execution_count": null,
      "outputs": []
    },
    {
      "cell_type": "markdown",
      "metadata": {},
      "source": [
        "So we're going to actually store a file called `vector.vec`, and we're going to use that and keep it around because we're going to iterate through the data multiple times and we're going to suppress warnings in case the file doesn't exist. \n",
        "\n",
        "Para poder crear los embeddings, usaremos DeepFace "
      ]
    },
    {
      "cell_type": "code",
      "metadata": {},
      "source": [
        "img_embed = DeepFace.represent(\n",
        "    img_path = 'family/child/P04414_face1.jpg',\n",
        "    model_name = MODEL,\n",
        "    enforce_detection=False\n",
        ")[0]['embedding']\n",
        "print(\n",
        "    f\"Embed: {img_embed[:10]}\\nLength: {len(img_embed)}\"\n",
        ")"
      ],
      "execution_count": null,
      "outputs": []
    },
    {
      "cell_type": "markdown",
      "metadata": {},
      "source": [
        "And we're going to remove the file just to keep things clean. So what we're going to do is open up the file, we're going glob all of the images of each of the people separately, and then we're going to create embeddings out of each person's face and write it to disk. And the way that we're going to write it to disk inside of that vectors vec file is person, the image name, and then the embedding value itself. "
      ]
    },
    {
      "cell_type": "code",
      "metadata": {},
      "source": [
        "def generate_vectors():\n",
        "  VECTOR_FILE = \"./vectors.vec\"\n",
        "\n",
        "  with contextlib.suppress(FileNotFoundError):\n",
        "    os.remove(VECTOR_FILE)\n",
        "  with open(VECTOR_FILE, \"w\") as f:\n",
        "    for person in [\"mom\", \"dad\", \"child\"]:\n",
        "      files = glob.glob(f'family/{person}/*')\n",
        "      for file in tqdm(files):\n",
        "        try:\n",
        "          embedding = DeepFace.represent(img_path=file, model_name=MODEL, enforce_detection=False)[0]['embedding']\n",
        "          f.write(f'{person}:{os.path.basename(file)}:{embedding}\\n')\n",
        "        except (ValueError, UnboundLocalError, AttributeError) as e:\n",
        "          print(e)\n",
        "\n",
        "generate_vectors()"
      ],
      "execution_count": null,
      "outputs": []
    },
    {
      "cell_type": "markdown",
      "metadata": {},
      "source": [
        "And then we'll go ahead and call generate vectors and store that. And now let's actually look at that file and see what it looks like. So we'll just use head to look at the data. "
      ]
    },
    {
      "cell_type": "code",
      "metadata": {},
      "source": [
        "!head -10 vectors.vec"
      ],
      "execution_count": null,
      "outputs": []
    },
    {
      "cell_type": "markdown",
      "metadata": {},
      "source": [
        "Now we're ready to calculate some scores and upload data into pine cone. Before we upload the data into pinecone, we're going to produce a teesy scatter plot based on PCA reduction that's going to give us a really pretty scatter plot of the data so we can visualize it. \n",
        "\n",
        "Principal component analysis, or PCA, reduces the dimensionality of data, in this case embeddings, and is often used to reduce the dimensionality of large data sets by transforming a large set of variables into a smaller one that still contains most of the information in the large set. \n",
        "\n",
        "\n",
        "So I've created one helper function called `gen_tsne_df`, or generate TSNE data frame, and what that does is iterates through the vectors vec file, looking for a specific person and appending that to the vectors list. "
      ]
    },
    {
      "cell_type": "code",
      "metadata": {},
      "source": [
        "def gen_tsne_df(person, perplexity):\n",
        "    vectors =[]\n",
        "    with open('./vectors.vec', 'r') as f:\n",
        "      for line in tqdm(f):\n",
        "        p, orig_img, v = line.split(':')\n",
        "        if person == p:\n",
        "            vectors.append(eval(v))\n",
        "    pca = PCA(n_components=8)\n",
        "    tsne = TSNE(2, perplexity=perplexity, random_state = 0, n_iter=1000,\n",
        "        verbose=0, metric='euclidean', learning_rate=75)\n",
        "    print(f'transform {len(vectors)} vectors')\n",
        "    pca_transform = pca.fit_transform(vectors)\n",
        "    embeddings2d = tsne.fit_transform(pca_transform)\n",
        "    return pd.DataFrame({'x':embeddings2d[:,0], 'y':embeddings2d[:,1]})"
      ],
      "execution_count": null,
      "outputs": []
    },
    {
      "cell_type": "markdown",
      "metadata": {},
      "source": [
        "A TSNE plot or t distributed stochastic neighbor embedding plot is a type of data visualization used primarily to represent high dimensional data in a two or three dimensional space. This technique is particularly useful for understanding complex datasets by reviewing patterns, clusters, and relationships between data points that might not be apparent in higher dimensions. PCA is often used as a preliminary step to reduce the dimensionality of the data. \n",
        "\n",
        "This can be particularly important when working with very high dimensional data, as it helps to mitigate the curse of dimensionality before applying TSNE. TSNE can be computationally expensive and slow, especially with large data sets. And so by using PCA to reduce the data to a lower dimensional space, first you get a significant speed up in the TSNE process. For the TSNE algorithm, perplexity is a very important hyperparameter that controls the number of neighbors that each point considers during dimensionality reduction. \n",
        "\n",
        "\n",
        "And then what we do is actually do a PCA reduction against a specific person. So what we're doing here is a PCA reduction for a specific person who's passed into the function. Then we do a TSNE reduction as well against that, and return that as a data frame to the next function, which we're going to call here called `plot_tsne`. \n",
        "\n",
        "And I'm going to go ahead and plug that in. So plot TSNI actually calls generate TSNe data frame. And you can see it down here below. And most of this code is just setting up matplotlib. And what we're going to do here, and this is the meat of it, is for each person that we've defined here in this, this dictionary. "
      ]
    },
    {
      "cell_type": "code",
      "metadata": {},
      "source": [
        "def plot_tsne(perplexity, model):\n",
        "    (_, ax) = plt.subplots(figsize=(8,5))\n",
        "    #plt.style.use('seaborn-whitegrid')\n",
        "    plt.grid(color='#EAEAEB', linewidth=0.5)\n",
        "    ax.spines['top'].set_color(None)\n",
        "    ax.spines['right'].set_color(None)\n",
        "    ax.spines['left'].set_color('#2B2F30')\n",
        "    ax.spines['bottom'].set_color('#2B2F30')\n",
        "    colormap = {'dad':'#ee8933', 'child':'#4fad5b', 'mom':'#4c93db'}\n",
        "\n",
        "    for person in colormap:\n",
        "        embeddingsdf = gen_tsne_df(person, perplexity)\n",
        "        ax.scatter(embeddingsdf.x, embeddingsdf.y, alpha=.5, \n",
        "                   label=person, color=colormap[person])\n",
        "    plt.title(f'Scatter plot of faces using {model}', fontsize=16, fontweight='bold', pad=20)\n",
        "    plt.suptitle(f't-SNE [perplexity={perplexity}]', y=0.92, fontsize=13)\n",
        "    plt.legend(loc='best', frameon=True)\n",
        "    plt.show()"
      ],
      "execution_count": null,
      "outputs": []
    },
    {
      "cell_type": "markdown",
      "metadata": {},
      "source": [
        "Dad, child and mom. These are just the colorists for the legend. We're going to call generate TSNE data frame and get back a data frame and plot it against our scatter plot and then actually show the plot. \n",
        "So we're going to call `plot_tsne` with a perplexity of 44. Definitely. I encourage you to play with that at home to see how it changes the scatter plot. "
      ]
    },
    {
      "cell_type": "code",
      "metadata": {},
      "source": [
        "# plot_tsne(27, 'facenet')\n",
        "plot_tsne(44, 'facenet')"
      ],
      "execution_count": null,
      "outputs": []
    },
    {
      "cell_type": "markdown",
      "metadata": {},
      "source": [
        "But you can see here that the images of each of the dad, the child, and the mom do cluster together. Well, I would definitely discourage you from insinuating too much that the child and the mom are close together in the scatter plot. Is that doesn't actually show much. \n",
        "\n",
        "\n",
        "Really what you want to do is look at the fact that the images are clustering within each person on their own. So, in other words, each one of these dots represents one image of a dad, and they're all very closely clustered together, which is great, because each of the pictures of the dad should look like the dad. Same thing for the child and same thing for the mom. \n",
        "\n",
        "\n",
        "\n",
        "\n",
        "Let's set up Pinecone so that we can store these values. So what we're going to do is, same thing that we've always done, delete the index, and then create the index again so we have a clean slate. "
      ]
    },
    {
      "cell_type": "code",
      "metadata": {},
      "source": [
        "if INDEX_NAME in [index.name for index in pinecone.list_indexes()]:\n",
        "  pinecone.delete_index(INDEX_NAME)\n",
        "pinecone.create_index(\n",
        "    name=INDEX_NAME, dimension=128, metric='cosine',\n",
        "  spec=ServerlessSpec(cloud='aws', region='us-west-2')\n",
        "  )\n",
        "\n",
        "index = pinecone.Index(INDEX_NAME)"
      ],
      "execution_count": null,
      "outputs": []
    },
    {
      "cell_type": "markdown",
      "metadata": {},
      "source": [
        "We'll go ahead and run that now we're going to store the vectors, run through that file that we created again one more time. So open up the file, iterate through one line at a time, split it into the person and the file name eval, the vector that was actually stored in that file and upset it into pine cone. "
      ]
    },
    {
      "cell_type": "code",
      "metadata": {},
      "source": [
        "def store_vectors():\n",
        "  with open(\"vectors.vec\", \"r\") as f:\n",
        "    for line in tqdm(f):\n",
        "        person, file, vec = line.split(':')\n",
        "        index.upsert([\n",
        "            (f'{person}-{file}', eval(vec), {\"person\":person, \"file\":file})\n",
        "            ])\n",
        "store_vectors()\n",
        "\n",
        "index.describe_index_stats()"
      ],
      "execution_count": null,
      "outputs": []
    },
    {
      "cell_type": "markdown",
      "metadata": {},
      "source": [
        "So now let's compute the scores. And what this is going to do is return the top k, similar images against the child. \n",
        "\n",
        "So it's going to take in one of the parents, which is either going to be mom or dad each time around, and it's going to return the top k. And what we're going to do is actually calculate the average score from the returned value from the query from pine cone. \n",
        "\n",
        "So for each vector inside pine cone, we're going to get a score and we're going to take the average of the top k values that we got back. So let's store that value and then we're going to call it for each relationship that we want to look at. So we're going to call compute scores. \n",
        "\n",
        "And so what we're going to do is call test for the dad in the child. And we're going to call `test` for the mom and the child. And to do that, we're going to take a random vector, a random image, I should say, from the dad and the mom and use that to compute the score. "
      ]
    },
    {
      "cell_type": "code",
      "metadata": {},
      "source": [
        "def test(vec_groups, parent, child):\n",
        "  index = pinecone.Index(INDEX_NAME)\n",
        "  parent_vecs = vec_groups[parent]\n",
        "  K = 10\n",
        "  SAMPLE_SIZE = 10\n",
        "  sum = 0\n",
        "  for i in tqdm(range(0,SAMPLE_SIZE)):\n",
        "    query_response = index.query(\n",
        "      top_k=K,\n",
        "      vector = parent_vecs[i],\n",
        "      filter={\n",
        "        \"person\": {\"$eq\": child}\n",
        "      }\n",
        "    )\n",
        "    for row in query_response[\"matches\"]:\n",
        "      sum  = sum + row[\"score\"]\n",
        "  print(f'\\n\\n{parent} AVG: {sum / (SAMPLE_SIZE*K)}')"
      ],
      "execution_count": null,
      "outputs": []
    },
    {
      "cell_type": "code",
      "metadata": {},
      "source": [
        "def compute_scores():\n",
        "  index = pinecone.Index(INDEX_NAME)\n",
        "  vec_groups = {\"dad\":[], \"mom\":[], \"child\":[]}\n",
        "  with open(\"vectors.vec\", \"r\") as f:\n",
        "    for line in tqdm(f):\n",
        "      person, file, vec = line.split(':')\n",
        "      vec_groups[person].append(eval(vec))\n",
        "  print(f\"DAD {'-' * 20}\")\n",
        "  test(vec_groups, \"dad\", \"child\")\n",
        "  print(f\"MOM {'-' * 20}\")\n",
        "  test(vec_groups, \"mom\", \"child\")\n",
        "\n",
        "compute_scores()"
      ],
      "execution_count": null,
      "outputs": []
    },
    {
      "cell_type": "markdown",
      "metadata": {},
      "source": [
        "So the dad got an average score of zero point 43, closeness to Prince William, who's the child, and the mom got an average score of zero point 35, closeness to the child that is Prince William. \n",
        "\n",
        "And so what that means is that the dad is closer and similarity to Prince William. \n",
        "\n",
        "Now what we can do is use the fact that we know the dad is closer and find which image is the closest between them. So what we're going to do is take one base image of the child."
      ]
    },
    {
      "cell_type": "code",
      "metadata": {},
      "source": [
        "child_base = 'family/child/P06310_face1.jpg'\n",
        "show_img(child_base)"
      ],
      "execution_count": null,
      "outputs": []
    },
    {
      "cell_type": "code",
      "metadata": {},
      "source": [
        "#Now find closest given we know dad is \"most similar\"\n",
        "embedding = DeepFace.represent(img_path=child_base, model_name=MODEL)[0]['embedding']\n",
        "print(embedding)"
      ],
      "execution_count": null,
      "outputs": []
    },
    {
      "cell_type": "markdown",
      "metadata": {},
      "source": [
        "We'll take the top three results that match it from the dad. And then let's look at the response. This is a typical JSON blob that comes back from pine cone. You get the id of the vector, you get the metadata, and you get the score. \n",
        "\n",
        "\n",
        "Now what we're going to do is look at the image in particular that matches. So is the image that is most similar to Prince William. "
      ]
    },
    {
      "cell_type": "code",
      "metadata": {},
      "source": [
        "query_response = index.query(\n",
        "      top_k=3,\n",
        "      vector = embedding,\n",
        "      filter={\n",
        "        \"person\": {\"$eq\": \"dad\"}\n",
        "      },\n",
        "      include_metadata=True\n",
        ")"
      ],
      "execution_count": null,
      "outputs": []
    },
    {
      "cell_type": "code",
      "metadata": {},
      "source": [
        "print(query_response)"
      ],
      "execution_count": null,
      "outputs": []
    },
    {
      "cell_type": "code",
      "metadata": {},
      "source": [
        "photo = query_response[\"matches\"][0][\"metadata\"][\"file\"]\n",
        "show_img(f\"family/dad/{photo}\")"
      ],
      "execution_count": null,
      "outputs": []
    },
    {
      "cell_type": "markdown",
      "metadata": {},
      "source": [
        "So in this example, we built a facial similarity system that matches King Charles and Princess Diana to their offspring Prince William to figure out which of those two looks most like Prince William. The data showed that's actually King Charles that looks the most like Prince William. \n",
        "\n",
        "And at the end, we figured out which image in particular looks most like Prince William. And we saw that this image here at the end looks most like Prince William, which I would agree they very much look similar. I encourage you to play with this."
      ]
    }
  ],
  "metadata": {
    "kernelspec": {
      "name": "python3",
      "language": "python",
      "display_name": "Python 3 (ipykernel)"
    }
  },
  "nbformat": 4,
  "nbformat_minor": 4
}