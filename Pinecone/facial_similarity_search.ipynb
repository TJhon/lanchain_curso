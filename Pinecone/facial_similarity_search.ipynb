{
  "cells": [
    {
      "cell_type": "markdown",
      "metadata": {},
      "source": [
        "# Facial Similarity Search\n",
        "\n",
        "In this lesson, we will explore the age-old question of which parent a child resembles the most. We will answer this question using vector embeddings and apply it to a freely available image dataset, particularly one featuring the British royal family. Our goal is to determine if Prince William looks more like King Charles or Princess Diana. This process is simple and extensible enough for you to try on your own family pictures.\n",
        "\n",
        "We'll develop a facial similarity search system to determine which parent looks most like their child. We'll take a father, a mother, and one child, and assess whether the child resembles the father or the mother more. The determination of resemblance will be based on the highest average score between each parent and child.\n",
        "\n",
        "## Setup\n",
        "\n",
        "To achieve this, we'll use the DeepFace open-source library, which contains a Facenet model with embeddings that are 128 dimensions wide. Let's start by suppressing warnings and importing necessary libraries into the notebook. Then, we'll retrieve our Pinecone API key."
      ]
    },
    {
      "cell_type": "code",
      "metadata": {},
      "source": [
        "import warnings\n",
        "\n",
        "warnings.filterwarnings(\"ignore\")\n",
        "\n",
        "from deepface import DeepFace\n",
        "from pinecone import Pinecone, PodSpec\n",
        "from sklearn.decomposition import PCA\n",
        "from sklearn.manifold import TSNE\n",
        "from tqdm import tqdm\n",
        "\n",
        "from google.colab import userdata\n",
        "\n",
        "import contextlib\n",
        "import glob\n",
        "import matplotlib.pyplot as plt\n",
        "import numpy as np\n",
        "import os\n",
        "import pandas as pd\n",
        "import time\n",
        "\n",
        "PINECONE_API_KEY = userdata.get(\"PINECONE_API_KEY\")"
      ],
      "execution_count": null,
      "outputs": []
    },
    {
      "cell_type": "markdown",
      "metadata": {},
      "source": [
        "We'll use the \"Families in the Wild\" dataset, which I'll link to in this lesson. I won't make you watch the data download, but you can run a similar command to WGet. We'll download the file named `family_photos.zip` from the specified location and unzip the photos."
      ]
    },
    {
      "cell_type": "code",
      "metadata": {},
      "source": [
        "# linux environment\n",
        "\n",
        "!wget -q --show-progress -O family_photos.zip \"https://www.dropbox.com/scl/fi/yg0f2ynbzzd2q4nsweti5/family_photos.zip?rlkey=00oeuiii3jgapz2b1bfj0vzys&dl=0\"\n",
        "\n",
        "!unzip -q family_photos.zip\n",
        "\n",
        "!dir family_photos"
      ],
      "execution_count": null,
      "outputs": []
    },
    {
      "cell_type": "markdown",
      "metadata": {},
      "source": [
        "The `family_photos.zip` file contains a top-level directory named `family`, which further contains subdirectories for `dad`, `mom`, and `child`.\n",
        "\n",
        "Our approach involves running images of King Charles, Princess Diana, and Prince William through the DeepFace model, storing those vector embeddings in Pinecone. Then, we'll calculate similarity scores for King Charles, Princess Diana, and Prince William, and see based on an average who looks more like each other.\n",
        "\n",
        "\n",
        "\n",
        "\n",
        "## Exploring Family Photos\n",
        "\n",
        "Let's take a look at some pictures of the royal family members - King Charles, Princess Diana, and Prince William. We'll use a helper function `show_img` to display the images.\n",
        "\n",
        "### King Charles\n",
        "\n",
        "Here's an image of King Charles:"
      ]
    },
    {
      "cell_type": "code",
      "metadata": {},
      "source": [
        "def show_img(f):\n",
        "  img = plt.imread(f)\n",
        "  plt.figure(figsize=(4,3))\n",
        "  plt.imshow(img)\n",
        "\n",
        "show_img('family/dad/P06260_face5.jpg')"
      ],
      "execution_count": null,
      "outputs": []
    },
    {
      "cell_type": "markdown",
      "metadata": {},
      "source": [
        "### Princess Diana\n",
        "\n",
        "Now, let's view an image of Princess Diana:"
      ]
    },
    {
      "cell_type": "code",
      "metadata": {},
      "source": [
        "show_img('family/mom/P04407_face2.jpg')"
      ],
      "execution_count": null,
      "outputs": []
    },
    {
      "cell_type": "markdown",
      "metadata": {},
      "source": [
        "### Prince William\n",
        "\n",
        "And here's an image of Prince William:"
      ]
    },
    {
      "cell_type": "code",
      "metadata": {},
      "source": [
        "show_img('family/child/P04414_face1.jpg')"
      ],
      "execution_count": null,
      "outputs": []
    },
    {
      "cell_type": "markdown",
      "metadata": {},
      "source": [
        "## Setting Up Pinecone\n",
        "\n",
        "Now, let's set up Pinecone. We'll create our index name and establish a connection with Pinecone:"
      ]
    },
    {
      "cell_type": "code",
      "metadata": {},
      "source": [
        "MODEL = 'Facenet'\n",
        "INDEX_NAME = 'facenet'\n",
        "\n",
        "pinecone = Pinecone(api_key=PINECONE_API_KEY)"
      ],
      "execution_count": null,
      "outputs": []
    },
    {
      "cell_type": "markdown",
      "metadata": {},
      "source": [
        "## Generating Vector Embeddings\n",
        "\n",
        "To generate the vector embeddings, we'll use DeepFace. First, we'll create embeddings for a single image to understand the process:"
      ]
    },
    {
      "cell_type": "code",
      "metadata": {},
      "source": [
        "img_embed = DeepFace.represent(\n",
        "    img_path='family/child/P04414_face1.jpg',\n",
        "    model_name=MODEL,\n",
        "    enforce_detection=False\n",
        ")[0]['embedding']\n",
        "print(\n",
        "    f\"Embed: {img_embed[:10]}\\nLength: {len(img_embed)}\"\n",
        ")"
      ],
      "execution_count": null,
      "outputs": []
    },
    {
      "cell_type": "markdown",
      "metadata": {},
      "source": [
        "We're going to remove the file just to keep things clean. So what we're going to do is open up the file, we're going glob all of the images of each of the people separately, and then we're going to create embeddings out of each person's face and write it to disk. And the way that we're going to write it to disk inside of that vectors vec file is person, the image name, and then the embedding value itself. "
      ]
    },
    {
      "cell_type": "code",
      "metadata": {},
      "source": [
        "def generate_vectors():\n",
        "  VECTOR_FILE = \"./vectors.vec\"\n",
        "\n",
        "  with contextlib.suppress(FileNotFoundError):\n",
        "    os.remove(VECTOR_FILE)\n",
        "  with open(VECTOR_FILE, \"w\") as f:\n",
        "    for person in [\"mom\", \"dad\", \"child\"]:\n",
        "      files = glob.glob(f'family/{person}/*')\n",
        "      for file in tqdm(files):\n",
        "        try:\n",
        "          embedding = DeepFace.represent(img_path=file, model_name=MODEL, enforce_detection=False)[0]['embedding']\n",
        "          f.write(f'{person}:{os.path.basename(file)}:{embedding}\\n')\n",
        "        except (ValueError, UnboundLocalError, AttributeError) as e:\n",
        "          print(e)\n",
        "\n",
        "generate_vectors()"
      ],
      "execution_count": null,
      "outputs": []
    },
    {
      "cell_type": "markdown",
      "metadata": {},
      "source": [
        "This process will allow us to use the generated embeddings for facial similarity search.\n",
        "\n",
        "\n",
        "<!--  -->\n",
        "\n",
        "## Exploring Vector Embeddings\n",
        "\n",
        "Let's examine the contents of the `vectors.vec` file after generating vector embeddings for the images. We'll use the `head` command to display the first few lines of the file:"
      ]
    },
    {
      "cell_type": "code",
      "metadata": {},
      "source": [
        "!head -10 vectors.vec"
      ],
      "execution_count": null,
      "outputs": []
    },
    {
      "cell_type": "markdown",
      "metadata": {},
      "source": [
        "Now that we have our embeddings, we'll proceed to calculate scores and upload data into Pinecone. Before uploading, let's visualize the embeddings using a scatter plot based on PCA reduction.\n",
        "\n",
        "### Understanding PCA and t-SNE\n",
        "\n",
        "Principal Component Analysis (PCA) is a technique used to reduce the dimensionality of data. It transforms a large set of variables into a smaller set while retaining most of the information. This reduction is particularly useful for high-dimensional datasets like embeddings.\n",
        "\n",
        "t-Distributed Stochastic Neighbor Embedding (t-SNE) is a dimensionality reduction technique primarily used for visualizing high-dimensional data in a lower-dimensional space, typically two or three dimensions. It helps reveal patterns, clusters, and relationships in complex datasets.\n",
        "\n",
        "Let's create a function called `gen_tsne_df` to generate a t-SNE dataframe for a specific person:"
      ]
    },
    {
      "cell_type": "code",
      "metadata": {},
      "source": [
        "def gen_tsne_df(person, perplexity):\n",
        "    vectors =[]\n",
        "    with open('./vectors.vec', 'r') as f:\n",
        "      for line in tqdm(f):\n",
        "        p, orig_img, v = line.split(':')\n",
        "        if person == p:\n",
        "            vectors.append(eval(v))\n",
        "    pca = PCA(n_components=8)\n",
        "    tsne = TSNE(2, perplexity=perplexity, random_state = 0, n_iter=1000,\n",
        "        verbose=0, metric='euclidean', learning_rate=75)\n",
        "    print(f'transform {len(vectors)} vectors')\n",
        "    pca_transform = pca.fit_transform(vectors)\n",
        "    embeddings2d = tsne.fit_transform(pca_transform)\n",
        "    return pd.DataFrame({'x':embeddings2d[:,0], 'y':embeddings2d[:,1]})"
      ],
      "execution_count": null,
      "outputs": []
    },
    {
      "cell_type": "markdown",
      "metadata": {},
      "source": [
        "This function iterates through the `vectors.vec` file, collects embeddings for a specific person, performs PCA reduction, and then applies t-SNE reduction to generate a two-dimensional dataframe.\n",
        "\n",
        "### Visualizing Embeddings with t-SNE\n",
        "\n",
        "And then what we do is actually do a PCA reduction against a specific person. So what we're doing here is a PCA reduction for a specific person who's passed into the function. Then we do a TSNE reduction as well against that, and return that as a data frame to the next function, which we're going to call here called `plot_tsne`. \n",
        "\n",
        "And I'm going to go ahead and plug that in. So plot TSNI actually calls generate TSNe data frame. And you can see it down here below. And most of this code is just setting up matplotlib. And what we're going to do here, and this is the meat of it, is for each person that we've defined here in this, this dictionary. \n",
        "\n",
        "Now, let's create a function called `plot_tsne` to plot the t-SNE scatter plot:"
      ]
    },
    {
      "cell_type": "code",
      "metadata": {},
      "source": [
        "def plot_tsne(perplexity, model):\n",
        "    (_, ax) = plt.subplots(figsize=(8,5))\n",
        "    plt.grid(color='#EAEAEB', linewidth=0.5)\n",
        "    ax.spines['top'].set_color(None)\n",
        "    ax.spines['right'].set_color(None)\n",
        "    ax.spines['left'].set_color('#2B2F30')\n",
        "    ax.spines['bottom'].set_color('#2B2F30')\n",
        "    colormap = {'dad':'#ee8933', 'child':'#4fad5b', 'mom':'#4c93db'}\n",
        "\n",
        "    for person in colormap:\n",
        "        embeddingsdf = gen_tsne_df(person, perplexity)\n",
        "        ax.scatter(embeddingsdf.x, embeddingsdf.y, alpha=.5, \n",
        "                   label=person, color=colormap[person])\n",
        "    plt.title(f'Scatter plot of faces using {model}', fontsize=16, fontweight='bold', pad=20)\n",
        "    plt.suptitle(f't-SNE [perplexity={perplexity}]', y=0.92, fontsize=13)\n",
        "    plt.legend(loc='best', frameon=True)\n",
        "    plt.show()"
      ],
      "execution_count": null,
      "outputs": []
    },
    {
      "cell_type": "markdown",
      "metadata": {},
      "source": [
        "This function sets up the plot style, iterates through each person to generate t-SNE data, and plots the scatter plot accordingly.\n",
        "\n",
        "### Plotting t-SNE Scatter Plot\n",
        "\n",
        "Let's visualize the embeddings using the `plot_tsne` function with a perplexity of 44:"
      ]
    },
    {
      "cell_type": "code",
      "metadata": {},
      "source": [
        "plot_tsne(44, 'facenet')"
      ],
      "execution_count": null,
      "outputs": []
    },
    {
      "cell_type": "markdown",
      "metadata": {},
      "source": [
        "Feel free to experiment with different perplexity values to observe changes in the scatter plot.\n",
        "\n",
        "\n",
        "<!--  -->\n",
        "## Clustering Analysis and Pinecone Setup\n",
        "\n",
        "Upon examining the scatter plot of the embeddings, it's evident that the images of each family member—dad, child, and mom—cluster together. However, it's important to exercise caution when interpreting the proximity of the child and mom clusters. While they may appear close in the plot, it's not necessarily indicative of strong similarities between them."
      ]
    },
    {
      "cell_type": "code",
      "metadata": {},
      "source": [
        "if INDEX_NAME in [index.name for index in pinecone.list_indexes()]:\n",
        "  pinecone.delete_index(INDEX_NAME)\n",
        "pinecone.create_index(\n",
        "    name=INDEX_NAME, dimension=128, metric='cosine',\n",
        "    spec=PodSpec(\n",
        "        environment='us-west1-gcp',\n",
        "        pod_type='p1.x1'\n",
        "    )\n",
        ")\n",
        "\n",
        "index = pinecone.Index(INDEX_NAME)"
      ],
      "execution_count": null,
      "outputs": []
    },
    {
      "cell_type": "markdown",
      "metadata": {},
      "source": [
        "We proceed by setting up Pinecone to store our embeddings. First, we ensure a clean slate by deleting any existing index and then create a new one with the specified dimensions and metric."
      ]
    },
    {
      "cell_type": "code",
      "metadata": {},
      "source": [
        "def store_vectors():\n",
        "  with open(\"vectors.vec\", \"r\") as f:\n",
        "    for line in tqdm(f):\n",
        "        person, file, vec = line.split(':')\n",
        "        index.upsert([\n",
        "            (f'{person}-{file}', eval(vec), {\"person\":person, \"file\":file})\n",
        "            ])\n",
        "store_vectors()\n",
        "\n",
        "index.describe_index_stats()"
      ],
      "execution_count": null,
      "outputs": []
    },
    {
      "cell_type": "markdown",
      "metadata": {},
      "source": [
        "<!--  -->\n",
        "\n",
        "## Computing Similarity Scores and Finding Closest Image\n",
        "\n",
        "Now, let's compute the similarity scores between each parent (dad and mom) and the child (Prince William). \n",
        "\n",
        "First, we define a function `test` to calculate the average similarity score between a parent and the child. This function takes groups of vectors for each parent and the child, queries Pinecone to find similar images of the child given the parent's vectors, and computes the average score."
      ]
    },
    {
      "cell_type": "code",
      "metadata": {},
      "source": [
        "def test(vec_groups, parent, child):\n",
        "  index = pinecone.Index(INDEX_NAME)\n",
        "  parent_vecs = vec_groups[parent]\n",
        "  K = 10\n",
        "  SAMPLE_SIZE = 10\n",
        "  sum = 0\n",
        "  for i in tqdm(range(0,SAMPLE_SIZE)):\n",
        "    query_response = index.query(\n",
        "      top_k=K,\n",
        "      vector = parent_vecs[i],\n",
        "      filter={\n",
        "        \"person\": {\"$eq\": child}\n",
        "      }\n",
        "    )\n",
        "    for row in query_response[\"matches\"]:\n",
        "      sum  = sum + row[\"score\"]\n",
        "  print(f'\\n\\n{parent} AVG: {sum / (SAMPLE_SIZE*K)}')"
      ],
      "execution_count": null,
      "outputs": []
    },
    {
      "cell_type": "markdown",
      "metadata": {},
      "source": [
        "Then, we define a function `compute_scores` to organize the vectors into groups for each parent and the child and call the `test` function for both parents."
      ]
    },
    {
      "cell_type": "code",
      "metadata": {},
      "source": [
        "def compute_scores():\n",
        "  index = pinecone.Index(INDEX_NAME)\n",
        "  vec_groups = {\"dad\":[], \"mom\":[], \"child\":[]}\n",
        "  with open(\"vectors.vec\", \"r\") as f:\n",
        "    for line in tqdm(f):\n",
        "      person, file, vec = line.split(':')\n",
        "      vec_groups[person].append(eval(vec))\n",
        "  print(f\"DAD {'-' * 20}\")\n",
        "  test(vec_groups, \"dad\", \"child\")\n",
        "  print(f\"MOM {'-' * 20}\")\n",
        "  test(vec_groups, \"mom\", \"child\")\n",
        "\n",
        "compute_scores()"
      ],
      "execution_count": null,
      "outputs": []
    },
    {
      "cell_type": "markdown",
      "metadata": {},
      "source": [
        "These functions compute and display the average similarity scores between the parents and the child. \n",
        "\n",
        "Next, we find the closest image of Prince William among those that resemble his dad the most."
      ]
    },
    {
      "cell_type": "code",
      "metadata": {},
      "source": [
        "child_base = 'family/child/P06310_face1.jpg'\n",
        "show_img(child_base)"
      ],
      "execution_count": null,
      "outputs": []
    },
    {
      "cell_type": "code",
      "metadata": {},
      "source": [
        "embedding = DeepFace.represent(img_path=child_base, model_name=MODEL)[0]['embedding']\n",
        "print(embedding)"
      ],
      "execution_count": null,
      "outputs": []
    },
    {
      "cell_type": "markdown",
      "metadata": {},
      "source": [
        "We query Pinecone to find the top three closest images of Prince William's dad and display the metadata of the closest match."
      ]
    },
    {
      "cell_type": "code",
      "metadata": {},
      "source": [
        "query_response = index.query(\n",
        "      top_k=3,\n",
        "      vector = embedding,\n",
        "      filter={\n",
        "        \"person\": {\"$eq\": \"dad\"}\n",
        "      },\n",
        "      include_metadata=True\n",
        ")\n",
        "\n",
        "print(query_response)"
      ],
      "execution_count": null,
      "outputs": []
    },
    {
      "cell_type": "markdown",
      "metadata": {},
      "source": [
        "Finally, we display the image that is most similar to Prince William among those of his dad."
      ]
    },
    {
      "cell_type": "code",
      "metadata": {},
      "source": [
        "photo = query_response[\"matches\"][0][\"metadata\"][\"file\"]\n",
        "show_img(f\"family/dad/{photo}\")"
      ],
      "execution_count": null,
      "outputs": []
    },
    {
      "cell_type": "markdown",
      "metadata": {},
      "source": [
        "In conclusion, this system helps determine which parent—King Charles or Princess Diana—looks most like their offspring, Prince William. The data suggests that King Charles bears a closer resemblance to Prince William. Further, we identify the image of King Charles that is most similar to Prince William, providing insights into familial similarities. Feel free to experiment with this system using your own images!\n",
        "\n",
        "\n",
        "<!--  -->"
      ]
    }
  ],
  "metadata": {
    "kernelspec": {
      "name": "python3",
      "language": "python",
      "display_name": "Python 3 (ipykernel)"
    }
  },
  "nbformat": 4,
  "nbformat_minor": 4
}