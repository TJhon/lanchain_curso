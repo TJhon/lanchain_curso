{
  "cells": [
    {
      "cell_type": "code",
      "metadata": {},
      "source": [
        "%pip install  pinecone-client openai "
      ],
      "execution_count": null,
      "outputs": []
    },
    {
      "cell_type": "markdown",
      "metadata": {},
      "source": [
        "# Recomender System\n",
        "\n",
        "## Pinecone\n",
        "\n",
        "\n",
        "Pinecone makes it easy to provide long-term memory for high-performance AI applications. It’s a managed, cloud-native vector database with a simple API and no infrastructure hassles. Pinecone serves fresh, filtered query results with low latency at the scale of billions of vectors.\n",
        "\n",
        "\n",
        "## Preview\n",
        "\n",
        "Para poder acceder al recurso de sebe de crear una cuenta en [pinecone](https://app.pinecone.io/), el cual por el momento se usara la version gratuita, cual solo nos permite tener solo un index storage, el cual sera suficiente para el ejercicio. \n",
        "\n",
        "Previamente se necesitaba 2 elementos de pinecone para poder hacer las consultas, sin \n",
        "embargo ahora solo se necesita la apikey de pinecone, para poder manjear los vectores.\n",
        "\n",
        "![](../chat_with_your_data/figs/0_preview.png)\n"
      ]
    }
  ],
  "metadata": {
    "kernelspec": {
      "name": "python3",
      "language": "python",
      "display_name": "Python 3 (ipykernel)"
    }
  },
  "nbformat": 4,
  "nbformat_minor": 4
}