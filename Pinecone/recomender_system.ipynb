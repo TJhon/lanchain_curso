{
  "cells": [
    {
      "cell_type": "markdown",
      "metadata": {
        "id": "view-in-github",
        "colab_type": "text"
      },
      "source": [
        "<a href=\"https://colab.research.google.com/github/TJhon/lanchain_curso/blob/day3/Pinecone/recomender_system.ipynb\" target=\"_parent\"><img src=\"https://colab.research.google.com/assets/colab-badge.svg\" alt=\"Open In Colab\"/></a>"
      ]
    },
    {
      "cell_type": "code",
      "metadata": {
        "id": "agpWjV4YdnAp",
        "outputId": "d83a1daf-3fff-4161-8942-d3e73de65408",
        "colab": {
          "base_uri": "https://localhost:8080/"
        }
      },
      "source": [
        "%pip install  pinecone-client openai numpy pandas langchain -q"
      ],
      "execution_count": 1,
      "outputs": [
        {
          "output_type": "stream",
          "name": "stdout",
          "text": [
            "\u001b[?25l     \u001b[90m━━━━━━━━━━━━━━━━━━━━━━━━━━━━━━━━━━━━━━━━\u001b[0m \u001b[32m0.0/201.4 kB\u001b[0m \u001b[31m?\u001b[0m eta \u001b[36m-:--:--\u001b[0m\r\u001b[2K     \u001b[91m━━━━━━━━━━━━━━━━━━━━━━━━\u001b[0m\u001b[90m╺\u001b[0m\u001b[90m━━━━━━━━━━━━━━━\u001b[0m \u001b[32m122.9/201.4 kB\u001b[0m \u001b[31m3.6 MB/s\u001b[0m eta \u001b[36m0:00:01\u001b[0m\r\u001b[2K     \u001b[90m━━━━━━━━━━━━━━━━━━━━━━━━━━━━━━━━━━━━━━━━\u001b[0m \u001b[32m201.4/201.4 kB\u001b[0m \u001b[31m4.1 MB/s\u001b[0m eta \u001b[36m0:00:00\u001b[0m\n",
            "\u001b[2K     \u001b[90m━━━━━━━━━━━━━━━━━━━━━━━━━━━━━━━━━━━━━━━━\u001b[0m \u001b[32m226.7/226.7 kB\u001b[0m \u001b[31m9.2 MB/s\u001b[0m eta \u001b[36m0:00:00\u001b[0m\n",
            "\u001b[2K     \u001b[90m━━━━━━━━━━━━━━━━━━━━━━━━━━━━━━━━━━━━━━━━\u001b[0m \u001b[32m811.8/811.8 kB\u001b[0m \u001b[31m10.1 MB/s\u001b[0m eta \u001b[36m0:00:00\u001b[0m\n",
            "\u001b[2K     \u001b[90m━━━━━━━━━━━━━━━━━━━━━━━━━━━━━━━━━━━━━━━━\u001b[0m \u001b[32m75.9/75.9 kB\u001b[0m \u001b[31m10.6 MB/s\u001b[0m eta \u001b[36m0:00:00\u001b[0m\n",
            "\u001b[2K     \u001b[90m━━━━━━━━━━━━━━━━━━━━━━━━━━━━━━━━━━━━━━━━\u001b[0m \u001b[32m1.6/1.6 MB\u001b[0m \u001b[31m14.2 MB/s\u001b[0m eta \u001b[36m0:00:00\u001b[0m\n",
            "\u001b[2K     \u001b[90m━━━━━━━━━━━━━━━━━━━━━━━━━━━━━━━━━━━━━━━━\u001b[0m \u001b[32m239.4/239.4 kB\u001b[0m \u001b[31m21.1 MB/s\u001b[0m eta \u001b[36m0:00:00\u001b[0m\n",
            "\u001b[2K     \u001b[90m━━━━━━━━━━━━━━━━━━━━━━━━━━━━━━━━━━━━━━━━\u001b[0m \u001b[32m55.7/55.7 kB\u001b[0m \u001b[31m7.3 MB/s\u001b[0m eta \u001b[36m0:00:00\u001b[0m\n",
            "\u001b[2K     \u001b[90m━━━━━━━━━━━━━━━━━━━━━━━━━━━━━━━━━━━━━━━━\u001b[0m \u001b[32m49.4/49.4 kB\u001b[0m \u001b[31m6.8 MB/s\u001b[0m eta \u001b[36m0:00:00\u001b[0m\n",
            "\u001b[2K     \u001b[90m━━━━━━━━━━━━━━━━━━━━━━━━━━━━━━━━━━━━━━━━\u001b[0m \u001b[32m76.9/76.9 kB\u001b[0m \u001b[31m11.3 MB/s\u001b[0m eta \u001b[36m0:00:00\u001b[0m\n",
            "\u001b[2K     \u001b[90m━━━━━━━━━━━━━━━━━━━━━━━━━━━━━━━━━━━━━━━━\u001b[0m \u001b[32m58.3/58.3 kB\u001b[0m \u001b[31m5.9 MB/s\u001b[0m eta \u001b[36m0:00:00\u001b[0m\n",
            "\u001b[2K     \u001b[90m━━━━━━━━━━━━━━━━━━━━━━━━━━━━━━━━━━━━━━━━\u001b[0m \u001b[32m55.4/55.4 kB\u001b[0m \u001b[31m4.6 MB/s\u001b[0m eta \u001b[36m0:00:00\u001b[0m\n",
            "\u001b[?25h\u001b[31mERROR: pip's dependency resolver does not currently take into account all the packages that are installed. This behaviour is the source of the following dependency conflicts.\n",
            "llmx 0.0.15a0 requires cohere, which is not installed.\n",
            "llmx 0.0.15a0 requires tiktoken, which is not installed.\u001b[0m\u001b[31m\n",
            "\u001b[0m"
          ]
        }
      ]
    },
    {
      "cell_type": "markdown",
      "metadata": {
        "id": "ZO8trv6EdnAr"
      },
      "source": [
        "# Recommendation System\n",
        "\n",
        "## Pinecone\n",
        "\n",
        "Pinecone simplifies the provision of long-term memory for high-performance AI applications. It is a managed, cloud-native vector database with a straightforward API and no infrastructure complexities. Pinecone delivers fresh, filtered query results with low latency, capable of scaling to billions of vectors.\n",
        "\n",
        "## Preview\n",
        "\n",
        "To access the resource, you need to create an account on [Pinecone](https://app.pinecone.io/). Currently, only the free version will be used, which allows for only one index storage, sufficient for the exercise.\n",
        "\n",
        "Previously, two elements of Pinecone were needed to make queries. However, now only the Pinecone API key is required to handle vectors.\n",
        "\n",
        "### Creating API KEY\n",
        "\n",
        "Login Pinecone\n",
        "\n",
        "![](https://github.com/TJhon/lanchain_curso/blob/day3/Pinecone/figs/login-pinecone.png?raw=1)\n",
        "\n",
        "Create Api Key\n",
        "\n",
        "![](https://github.com/TJhon/lanchain_curso/blob/day3/Pinecone/figs/api-key.png?raw=1)\n",
        "\n",
        "![](https://github.com/TJhon/lanchain_curso/blob/day3/Pinecone/figs/create_api-key.png?raw=1)\n",
        "\n",
        "Save Api Key\n",
        "\n",
        "![](https://github.com/TJhon/lanchain_curso/blob/day3/Pinecone/figs/save-api-key.png?raw=1)\n",
        "\n",
        "## How to Use\n",
        "\n",
        "To create the index in Pinecone, we need to import the necessary methods. Additionally, we must create the OpenAI client to generate embeddings (remember that embeddings are the vector representation of content).\n",
        "\n",
        "In this specific case, we are deleting all existing indexes with `pc.delete_index` in Pinecone because we can only have one in the free version. Additionally, we define the index name as `nameindex` and create the index (index creation typically takes between 1 to 3 minutes). Finally, we define our `index` to make queries."
      ]
    },
    {
      "cell_type": "code",
      "metadata": {
        "id": "Gq4zrzQ_dnAt"
      },
      "source": [
        "# pinecone\n",
        "from pinecone import Pinecone, PodSpec\n",
        "from google.colab import userdata\n",
        "\n",
        "pc_api_key = userdata.get(\"PINECONE_API_KEY\")\n",
        "pc = Pinecone(api_key=pc_api_key)\n",
        "\n",
        "nameindex = \"recommended\"\n",
        "for index in pc.list_indexes():\n",
        "  pc.delete_index(index.get('name'))\n",
        "\n",
        "pc.create_index(\n",
        "    name=nameindex,\n",
        "    dimension=1536,\n",
        "    metric=\"cosine\",\n",
        "    spec=PodSpec(\n",
        "        environment='us-west1-gcp',\n",
        "        pod_type='p1.x1'\n",
        "    )\n",
        ")\n",
        "# define the endpoint\n",
        "index = pc.Index(nameindex)"
      ],
      "execution_count": 2,
      "outputs": []
    },
    {
      "cell_type": "code",
      "metadata": {
        "id": "bh7-lxeYdnAt"
      },
      "source": [
        "from openai import OpenAI\n",
        "\n",
        "OPENAI_API_KEY = userdata.get('OPENAI_API_KEY')\n",
        "openai_client = OpenAI(api_key=OPENAI_API_KEY)"
      ],
      "execution_count": 3,
      "outputs": []
    },
    {
      "cell_type": "markdown",
      "metadata": {
        "id": "GPhvSCASdnAt"
      },
      "source": [
        "To better understand what embeddings are, let's create them with OpenAI. First, we need to call the embeddings method and create the embeddings by providing the text and the model to use. OpenAI works with embeddings of 1536 elements, so each embedding must be a list of that same size. Within these embeddings, there is the element `data[0].embedding`, which is the value needed to upload to Pinecone as `value`.\n",
        "\n",
        "Para entender mejor que son los embedings, haremos la creacion de este con openai, primero tenemos que llamar al metodo de embeddings y crear el embeddings tomando el texto y el modelo a utilizar. Openai trabaja con un los embeddings de 1536 elementos, por lo que cada emebddings debe ser una lista de ese mismo tamanio. Dentro de este embeddings existe el elemmeto `data[0].embeddig` el cual es el valor que se necesita para poder subir a pinecone como `value`\n"
      ]
    },
    {
      "cell_type": "code",
      "metadata": {
        "id": "eDphNkE0dnAt"
      },
      "source": [
        "model_openai_e = \"text-embedding-ada-002\"\n",
        "embed = openai_client.embeddings.create(input='text', model=model_openai_e)\n",
        "# dir(embed)"
      ],
      "execution_count": 4,
      "outputs": []
    },
    {
      "cell_type": "code",
      "metadata": {
        "id": "5Tru_j4adnAu",
        "outputId": "ef0841b4-f1d7-4e86-e503-0ec6a0fa0774",
        "colab": {
          "base_uri": "https://localhost:8080/"
        }
      },
      "source": [
        "value = embed.data[0].embedding\n",
        "print(f\"\"\"value: {value[:10]}\\n length: {len(value)}\"\"\")"
      ],
      "execution_count": 5,
      "outputs": [
        {
          "output_type": "stream",
          "name": "stdout",
          "text": [
            "value: [-0.010077533312141895, -0.015133497305214405, 0.008619214408099651, -0.012760289944708347, 0.00478080939501524, 0.018903113901615143, -0.015326105058193207, -0.016440480947494507, -0.013750845566391945, -0.002245948649942875]\n",
            " length: 1536\n"
          ]
        }
      ]
    },
    {
      "cell_type": "markdown",
      "metadata": {
        "id": "7pLbRlJndnAu"
      },
      "source": [
        "Since this procedure will be repetitive, it will be included in a function."
      ]
    },
    {
      "cell_type": "code",
      "metadata": {
        "id": "AaCZurM5dnAu"
      },
      "source": [
        "def get_embeddings(input, model=model_openai_e):\n",
        "    embed = openai_client.embeddings.create(input='text', model=model_openai_e)\n",
        "    value = embed.data[0].embedding\n",
        "    return value"
      ],
      "execution_count": 6,
      "outputs": []
    },
    {
      "cell_type": "markdown",
      "metadata": {
        "id": "BbQCJwLAdnAu"
      },
      "source": [
        "In order to upload this vector to Pinecone, two additional elements are needed: the ID, which will serve as an identifier, and the metadata, which in Python is a dictionary and will be used for more precise queries.\n",
        "\n",
        "As an example, let's use a sample:"
      ]
    },
    {
      "cell_type": "code",
      "metadata": {
        "id": "Smpsf4eKdnAu"
      },
      "source": [
        "import numpy as np\n",
        "\n",
        "value_vector = np.random.rand(1536)  # length of vector\n",
        "metadata = {\n",
        "    \"test\": \"yes\",\n",
        "    \"title\": \"none\"\n",
        "}\n",
        "\n",
        "upsert_response = index.upsert(\n",
        "    vectors=[\n",
        "        (\"id_1\", value_vector, metadata)\n",
        "    ]\n",
        ")"
      ],
      "execution_count": 7,
      "outputs": []
    },
    {
      "cell_type": "markdown",
      "metadata": {
        "id": "6u7NNHnPdnAv"
      },
      "source": [
        "![](https://github.com/TJhon/lanchain_curso/blob/day3/Pinecone/figs/index-created.png?raw=1)\n",
        "![](https://github.com/TJhon/lanchain_curso/blob/day3/Pinecone/figs/data-inside-index.png?raw=1)\n",
        "\n",
        "In the Pinecone console, you can see that there is now an element with the values defined previously.\n",
        "\n",
        "## Example\n",
        "\n",
        "Let's use news data, which is available at the following [link](https://www.dropbox.com/scl/fi/wruzj2bwyg743d0jzd7ku/all-the-news-3.zip?rlkey=rgwtwpeznbdadpv3f01sznwxa&dl=1%22). To use it, we can directly execute this code, which will download a zip file and extract its contents into the current folder."
      ]
    },
    {
      "cell_type": "code",
      "metadata": {
        "id": "a21Rz51cdnAv",
        "outputId": "05f8d5da-f221-4acb-cb4c-9366b5491917",
        "colab": {
          "base_uri": "https://localhost:8080/"
        }
      },
      "source": [
        "!wget -q --show-progress -O all-the-news-3.zip \"https://www.dropbox.com/scl/fi/wruzj2bwyg743d0jzd7ku/all-the-news-3.zip?rlkey=rgwtwpeznbdadpv3f01sznwxa&dl=1\"\n",
        "\n",
        "!unzip all-the-news-3.zip"
      ],
      "execution_count": 8,
      "outputs": [
        {
          "output_type": "stream",
          "name": "stdout",
          "text": [
            "all-the-news-3.zip  100%[===================>] 166.04M  71.3MB/s    in 2.3s    \n",
            "Archive:  all-the-news-3.zip\n",
            "  inflating: all-the-news-3.csv      \n"
          ]
        }
      ]
    },
    {
      "cell_type": "markdown",
      "metadata": {
        "id": "jltOIuqYdnAv"
      },
      "source": [
        "The data is contained within a CSV file."
      ]
    },
    {
      "cell_type": "code",
      "metadata": {
        "id": "yZS42kxhdnAv",
        "outputId": "2cdbbe84-5cda-4150-8a57-f9144fa108fe",
        "colab": {
          "base_uri": "https://localhost:8080/"
        }
      },
      "source": [
        "import pandas as pd\n",
        "df = pd.read_csv('./all-the-news-3.csv', nrows=99)\n",
        "print(df.columns, df.shape)"
      ],
      "execution_count": 9,
      "outputs": [
        {
          "output_type": "stream",
          "name": "stdout",
          "text": [
            "Index(['date', 'year', 'month', 'day', 'author', 'title', 'article', 'url',\n",
            "       'section', 'publication'],\n",
            "      dtype='object') (99, 10)\n"
          ]
        }
      ]
    },
    {
      "cell_type": "code",
      "metadata": {
        "id": "b_feteUednAv",
        "outputId": "d70242cd-e10a-4928-eed2-8ffeeb0cf06d",
        "colab": {
          "base_uri": "https://localhost:8080/",
          "height": 196
        }
      },
      "source": [
        "df.head(3)"
      ],
      "execution_count": 10,
      "outputs": [
        {
          "output_type": "execute_result",
          "data": {
            "text/plain": [
              "                  date  year  month  day       author  \\\n",
              "0  2016-12-09 18:31:00  2016   12.0    9  Lee Drutman   \n",
              "1  2016-10-07 21:26:46  2016   10.0    7  Scott Davis   \n",
              "2  2018-01-26 00:00:00  2018    1.0   26          NaN   \n",
              "\n",
              "                                               title  \\\n",
              "0  We should take concerns about the health of li...   \n",
              "1  Colts GM Ryan Grigson says Andrew Luck's contr...   \n",
              "2       Trump denies report he ordered Mueller fired   \n",
              "\n",
              "                                             article  \\\n",
              "0  This post is part of Polyarchy, an independent...   \n",
              "1   The Indianapolis Colts made Andrew Luck the h...   \n",
              "2  DAVOS, Switzerland (Reuters) - U.S. President ...   \n",
              "\n",
              "                                                 url section       publication  \n",
              "0  https://www.vox.com/polyarchy/2016/12/9/138983...     NaN               Vox  \n",
              "1  https://www.businessinsider.com/colts-gm-ryan-...     NaN  Business Insider  \n",
              "2  https://www.reuters.com/article/us-davos-meeti...   Davos           Reuters  "
            ],
            "text/html": [
              "\n",
              "  <div id=\"df-d568ff39-45e5-4062-b233-288e38b3109a\" class=\"colab-df-container\">\n",
              "    <div>\n",
              "<style scoped>\n",
              "    .dataframe tbody tr th:only-of-type {\n",
              "        vertical-align: middle;\n",
              "    }\n",
              "\n",
              "    .dataframe tbody tr th {\n",
              "        vertical-align: top;\n",
              "    }\n",
              "\n",
              "    .dataframe thead th {\n",
              "        text-align: right;\n",
              "    }\n",
              "</style>\n",
              "<table border=\"1\" class=\"dataframe\">\n",
              "  <thead>\n",
              "    <tr style=\"text-align: right;\">\n",
              "      <th></th>\n",
              "      <th>date</th>\n",
              "      <th>year</th>\n",
              "      <th>month</th>\n",
              "      <th>day</th>\n",
              "      <th>author</th>\n",
              "      <th>title</th>\n",
              "      <th>article</th>\n",
              "      <th>url</th>\n",
              "      <th>section</th>\n",
              "      <th>publication</th>\n",
              "    </tr>\n",
              "  </thead>\n",
              "  <tbody>\n",
              "    <tr>\n",
              "      <th>0</th>\n",
              "      <td>2016-12-09 18:31:00</td>\n",
              "      <td>2016</td>\n",
              "      <td>12.0</td>\n",
              "      <td>9</td>\n",
              "      <td>Lee Drutman</td>\n",
              "      <td>We should take concerns about the health of li...</td>\n",
              "      <td>This post is part of Polyarchy, an independent...</td>\n",
              "      <td>https://www.vox.com/polyarchy/2016/12/9/138983...</td>\n",
              "      <td>NaN</td>\n",
              "      <td>Vox</td>\n",
              "    </tr>\n",
              "    <tr>\n",
              "      <th>1</th>\n",
              "      <td>2016-10-07 21:26:46</td>\n",
              "      <td>2016</td>\n",
              "      <td>10.0</td>\n",
              "      <td>7</td>\n",
              "      <td>Scott Davis</td>\n",
              "      <td>Colts GM Ryan Grigson says Andrew Luck's contr...</td>\n",
              "      <td>The Indianapolis Colts made Andrew Luck the h...</td>\n",
              "      <td>https://www.businessinsider.com/colts-gm-ryan-...</td>\n",
              "      <td>NaN</td>\n",
              "      <td>Business Insider</td>\n",
              "    </tr>\n",
              "    <tr>\n",
              "      <th>2</th>\n",
              "      <td>2018-01-26 00:00:00</td>\n",
              "      <td>2018</td>\n",
              "      <td>1.0</td>\n",
              "      <td>26</td>\n",
              "      <td>NaN</td>\n",
              "      <td>Trump denies report he ordered Mueller fired</td>\n",
              "      <td>DAVOS, Switzerland (Reuters) - U.S. President ...</td>\n",
              "      <td>https://www.reuters.com/article/us-davos-meeti...</td>\n",
              "      <td>Davos</td>\n",
              "      <td>Reuters</td>\n",
              "    </tr>\n",
              "  </tbody>\n",
              "</table>\n",
              "</div>\n",
              "    <div class=\"colab-df-buttons\">\n",
              "\n",
              "  <div class=\"colab-df-container\">\n",
              "    <button class=\"colab-df-convert\" onclick=\"convertToInteractive('df-d568ff39-45e5-4062-b233-288e38b3109a')\"\n",
              "            title=\"Convert this dataframe to an interactive table.\"\n",
              "            style=\"display:none;\">\n",
              "\n",
              "  <svg xmlns=\"http://www.w3.org/2000/svg\" height=\"24px\" viewBox=\"0 -960 960 960\">\n",
              "    <path d=\"M120-120v-720h720v720H120Zm60-500h600v-160H180v160Zm220 220h160v-160H400v160Zm0 220h160v-160H400v160ZM180-400h160v-160H180v160Zm440 0h160v-160H620v160ZM180-180h160v-160H180v160Zm440 0h160v-160H620v160Z\"/>\n",
              "  </svg>\n",
              "    </button>\n",
              "\n",
              "  <style>\n",
              "    .colab-df-container {\n",
              "      display:flex;\n",
              "      gap: 12px;\n",
              "    }\n",
              "\n",
              "    .colab-df-convert {\n",
              "      background-color: #E8F0FE;\n",
              "      border: none;\n",
              "      border-radius: 50%;\n",
              "      cursor: pointer;\n",
              "      display: none;\n",
              "      fill: #1967D2;\n",
              "      height: 32px;\n",
              "      padding: 0 0 0 0;\n",
              "      width: 32px;\n",
              "    }\n",
              "\n",
              "    .colab-df-convert:hover {\n",
              "      background-color: #E2EBFA;\n",
              "      box-shadow: 0px 1px 2px rgba(60, 64, 67, 0.3), 0px 1px 3px 1px rgba(60, 64, 67, 0.15);\n",
              "      fill: #174EA6;\n",
              "    }\n",
              "\n",
              "    .colab-df-buttons div {\n",
              "      margin-bottom: 4px;\n",
              "    }\n",
              "\n",
              "    [theme=dark] .colab-df-convert {\n",
              "      background-color: #3B4455;\n",
              "      fill: #D2E3FC;\n",
              "    }\n",
              "\n",
              "    [theme=dark] .colab-df-convert:hover {\n",
              "      background-color: #434B5C;\n",
              "      box-shadow: 0px 1px 3px 1px rgba(0, 0, 0, 0.15);\n",
              "      filter: drop-shadow(0px 1px 2px rgba(0, 0, 0, 0.3));\n",
              "      fill: #FFFFFF;\n",
              "    }\n",
              "  </style>\n",
              "\n",
              "    <script>\n",
              "      const buttonEl =\n",
              "        document.querySelector('#df-d568ff39-45e5-4062-b233-288e38b3109a button.colab-df-convert');\n",
              "      buttonEl.style.display =\n",
              "        google.colab.kernel.accessAllowed ? 'block' : 'none';\n",
              "\n",
              "      async function convertToInteractive(key) {\n",
              "        const element = document.querySelector('#df-d568ff39-45e5-4062-b233-288e38b3109a');\n",
              "        const dataTable =\n",
              "          await google.colab.kernel.invokeFunction('convertToInteractive',\n",
              "                                                    [key], {});\n",
              "        if (!dataTable) return;\n",
              "\n",
              "        const docLinkHtml = 'Like what you see? Visit the ' +\n",
              "          '<a target=\"_blank\" href=https://colab.research.google.com/notebooks/data_table.ipynb>data table notebook</a>'\n",
              "          + ' to learn more about interactive tables.';\n",
              "        element.innerHTML = '';\n",
              "        dataTable['output_type'] = 'display_data';\n",
              "        await google.colab.output.renderOutput(dataTable, element);\n",
              "        const docLink = document.createElement('div');\n",
              "        docLink.innerHTML = docLinkHtml;\n",
              "        element.appendChild(docLink);\n",
              "      }\n",
              "    </script>\n",
              "  </div>\n",
              "\n",
              "\n",
              "<div id=\"df-4544565f-dd2c-4275-ad5b-c99ab4eb3ba0\">\n",
              "  <button class=\"colab-df-quickchart\" onclick=\"quickchart('df-4544565f-dd2c-4275-ad5b-c99ab4eb3ba0')\"\n",
              "            title=\"Suggest charts\"\n",
              "            style=\"display:none;\">\n",
              "\n",
              "<svg xmlns=\"http://www.w3.org/2000/svg\" height=\"24px\"viewBox=\"0 0 24 24\"\n",
              "     width=\"24px\">\n",
              "    <g>\n",
              "        <path d=\"M19 3H5c-1.1 0-2 .9-2 2v14c0 1.1.9 2 2 2h14c1.1 0 2-.9 2-2V5c0-1.1-.9-2-2-2zM9 17H7v-7h2v7zm4 0h-2V7h2v10zm4 0h-2v-4h2v4z\"/>\n",
              "    </g>\n",
              "</svg>\n",
              "  </button>\n",
              "\n",
              "<style>\n",
              "  .colab-df-quickchart {\n",
              "      --bg-color: #E8F0FE;\n",
              "      --fill-color: #1967D2;\n",
              "      --hover-bg-color: #E2EBFA;\n",
              "      --hover-fill-color: #174EA6;\n",
              "      --disabled-fill-color: #AAA;\n",
              "      --disabled-bg-color: #DDD;\n",
              "  }\n",
              "\n",
              "  [theme=dark] .colab-df-quickchart {\n",
              "      --bg-color: #3B4455;\n",
              "      --fill-color: #D2E3FC;\n",
              "      --hover-bg-color: #434B5C;\n",
              "      --hover-fill-color: #FFFFFF;\n",
              "      --disabled-bg-color: #3B4455;\n",
              "      --disabled-fill-color: #666;\n",
              "  }\n",
              "\n",
              "  .colab-df-quickchart {\n",
              "    background-color: var(--bg-color);\n",
              "    border: none;\n",
              "    border-radius: 50%;\n",
              "    cursor: pointer;\n",
              "    display: none;\n",
              "    fill: var(--fill-color);\n",
              "    height: 32px;\n",
              "    padding: 0;\n",
              "    width: 32px;\n",
              "  }\n",
              "\n",
              "  .colab-df-quickchart:hover {\n",
              "    background-color: var(--hover-bg-color);\n",
              "    box-shadow: 0 1px 2px rgba(60, 64, 67, 0.3), 0 1px 3px 1px rgba(60, 64, 67, 0.15);\n",
              "    fill: var(--button-hover-fill-color);\n",
              "  }\n",
              "\n",
              "  .colab-df-quickchart-complete:disabled,\n",
              "  .colab-df-quickchart-complete:disabled:hover {\n",
              "    background-color: var(--disabled-bg-color);\n",
              "    fill: var(--disabled-fill-color);\n",
              "    box-shadow: none;\n",
              "  }\n",
              "\n",
              "  .colab-df-spinner {\n",
              "    border: 2px solid var(--fill-color);\n",
              "    border-color: transparent;\n",
              "    border-bottom-color: var(--fill-color);\n",
              "    animation:\n",
              "      spin 1s steps(1) infinite;\n",
              "  }\n",
              "\n",
              "  @keyframes spin {\n",
              "    0% {\n",
              "      border-color: transparent;\n",
              "      border-bottom-color: var(--fill-color);\n",
              "      border-left-color: var(--fill-color);\n",
              "    }\n",
              "    20% {\n",
              "      border-color: transparent;\n",
              "      border-left-color: var(--fill-color);\n",
              "      border-top-color: var(--fill-color);\n",
              "    }\n",
              "    30% {\n",
              "      border-color: transparent;\n",
              "      border-left-color: var(--fill-color);\n",
              "      border-top-color: var(--fill-color);\n",
              "      border-right-color: var(--fill-color);\n",
              "    }\n",
              "    40% {\n",
              "      border-color: transparent;\n",
              "      border-right-color: var(--fill-color);\n",
              "      border-top-color: var(--fill-color);\n",
              "    }\n",
              "    60% {\n",
              "      border-color: transparent;\n",
              "      border-right-color: var(--fill-color);\n",
              "    }\n",
              "    80% {\n",
              "      border-color: transparent;\n",
              "      border-right-color: var(--fill-color);\n",
              "      border-bottom-color: var(--fill-color);\n",
              "    }\n",
              "    90% {\n",
              "      border-color: transparent;\n",
              "      border-bottom-color: var(--fill-color);\n",
              "    }\n",
              "  }\n",
              "</style>\n",
              "\n",
              "  <script>\n",
              "    async function quickchart(key) {\n",
              "      const quickchartButtonEl =\n",
              "        document.querySelector('#' + key + ' button');\n",
              "      quickchartButtonEl.disabled = true;  // To prevent multiple clicks.\n",
              "      quickchartButtonEl.classList.add('colab-df-spinner');\n",
              "      try {\n",
              "        const charts = await google.colab.kernel.invokeFunction(\n",
              "            'suggestCharts', [key], {});\n",
              "      } catch (error) {\n",
              "        console.error('Error during call to suggestCharts:', error);\n",
              "      }\n",
              "      quickchartButtonEl.classList.remove('colab-df-spinner');\n",
              "      quickchartButtonEl.classList.add('colab-df-quickchart-complete');\n",
              "    }\n",
              "    (() => {\n",
              "      let quickchartButtonEl =\n",
              "        document.querySelector('#df-4544565f-dd2c-4275-ad5b-c99ab4eb3ba0 button');\n",
              "      quickchartButtonEl.style.display =\n",
              "        google.colab.kernel.accessAllowed ? 'block' : 'none';\n",
              "    })();\n",
              "  </script>\n",
              "</div>\n",
              "\n",
              "    </div>\n",
              "  </div>\n"
            ]
          },
          "metadata": {},
          "execution_count": 10
        }
      ]
    },
    {
      "cell_type": "markdown",
      "metadata": {
        "id": "PyttYJaodnAv"
      },
      "source": [
        "In this example, only a sample will be uploaded to Pinecone."
      ]
    },
    {
      "cell_type": "code",
      "metadata": {
        "id": "FtCwCjltdnAv"
      },
      "source": [
        "import numpy as np\n",
        "df = pd.read_csv('./all-the-news-3.csv', nrows=100)"
      ],
      "execution_count": 11,
      "outputs": []
    },
    {
      "cell_type": "markdown",
      "metadata": {
        "id": "FKFAGCcBdnAv"
      },
      "source": [
        "Remember that we need 3 elements - ID, vector, and metadata - to upload to Pinecone. We'll generate a function that generates an ID, the embedding of the news titles, and the metadata, all within a tuple."
      ]
    },
    {
      "cell_type": "code",
      "metadata": {
        "id": "w_V6V-7adnAv"
      },
      "source": [
        "import uuid\n",
        "\n",
        "def to_update(title: str):\n",
        "    _id = str(uuid.uuid1())[:12]\n",
        "    embed = get_embeddings(title)\n",
        "    metadata = {\n",
        "        \"title\": title\n",
        "    }\n",
        "    return _id, embed, metadata\n",
        "\n",
        "value = to_update(\"We should take concerns about the health ...\")"
      ],
      "execution_count": 12,
      "outputs": []
    },
    {
      "cell_type": "code",
      "metadata": {
        "id": "lChAiOSodnAw"
      },
      "source": [
        "from tqdm import tqdm\n",
        "\n",
        "titles = df['title'].values\n",
        "for title in titles:\n",
        "    value = to_update(title)\n",
        "    index.upsert(vectors = [value])"
      ],
      "execution_count": 13,
      "outputs": []
    },
    {
      "cell_type": "markdown",
      "metadata": {
        "id": "C0dyVgpkdnAw"
      },
      "source": [
        "To view recommendations from the database, we can make the request with the following prompt, where we specify in `vector` the query's embedding, `top_k` the number of items to display, and `include_metadata` to extract metadata that matches the vector."
      ]
    },
    {
      "cell_type": "code",
      "metadata": {
        "id": "5Kiip0VzdnAw"
      },
      "source": [
        "query_vector = get_embeddings(\"Google\")\n",
        "response = index.query(\n",
        "    vector=query_vector,\n",
        "    top_k=10,\n",
        "    include_metadata=True\n",
        ")\n",
        "\n"
      ],
      "execution_count": 14,
      "outputs": []
    },
    {
      "cell_type": "markdown",
      "metadata": {
        "id": "r1CS6d5pdnAw"
      },
      "source": [
        "Subsequently, we can see the score of how matching our vector recommendations are with the query embed, and we can also access the metadata."
      ]
    },
    {
      "cell_type": "code",
      "metadata": {
        "id": "k-J8Jem4dnAw",
        "outputId": "533260bf-548a-4ccd-ae1a-092b5379b9bd",
        "colab": {
          "base_uri": "https://localhost:8080/"
        }
      },
      "source": [
        "print(response.matches)"
      ],
      "execution_count": 15,
      "outputs": [
        {
          "output_type": "stream",
          "name": "stdout",
          "text": [
            "[{'id': '4c8cde92-c9f',\n",
            " 'metadata': {'title': \"France's Sarkozy reveals his 'Passions' but insists no \"\n",
            "                       'come-back on cards'},\n",
            " 'score': 1.0,\n",
            " 'values': []}, {'id': '4ca1f44e-c9f',\n",
            " 'metadata': {'title': \"Paris Hilton: Woman In Black For Uncle Monty's \"\n",
            "                       'Funeral'},\n",
            " 'score': 1.0,\n",
            " 'values': []}, {'id': '4c70575e-c9f',\n",
            " 'metadata': {'title': 'Trump denies report he ordered Mueller fired'},\n",
            " 'score': 1.0,\n",
            " 'values': []}, {'id': '4cd766f6-c9f',\n",
            " 'metadata': {'title': 'Venezuela detains six military, police officials: '\n",
            "                       'family members, activists'},\n",
            " 'score': 1.0,\n",
            " 'values': []}, {'id': '4cf3ff32-c9f',\n",
            " 'metadata': {'title': 'You Can Trick Your Brain Into Being More Focused'},\n",
            " 'score': 1.0,\n",
            " 'values': []}, {'id': '4d10b8de-c9f',\n",
            " 'metadata': {'title': 'How to watch the Google I/O keynote live'},\n",
            " 'score': 1.0,\n",
            " 'values': []}, {'id': '4d25e9ac-c9f',\n",
            " 'metadata': {'title': 'China is dismissing unfavorable media reports as fake '\n",
            "                       \"because that's what Trump does\"},\n",
            " 'score': 1.0,\n",
            " 'values': []}, {'id': '4d3a243a-c9f',\n",
            " 'metadata': {'title': '“Elizabeth Warren called me!” is turning into a '\n",
            "                       'Twitter meme'},\n",
            " 'score': 1.0,\n",
            " 'values': []}, {'id': '4c5bb24a-c9f',\n",
            " 'metadata': {'title': \"Colts GM Ryan Grigson says Andrew Luck's contract \"\n",
            "                       'makes it difficult to build the team'},\n",
            " 'score': 1.0,\n",
            " 'values': []}, {'id': '4c3597c2-c9f',\n",
            " 'metadata': {'title': 'We should take concerns about the health of liberal '\n",
            "                       'democracy seriously'},\n",
            " 'score': 1.0,\n",
            " 'values': []}]\n"
          ]
        }
      ]
    },
    {
      "cell_type": "markdown",
      "metadata": {
        "id": "jfZ3pXJCdnAw"
      },
      "source": [
        "## Large Texts\n",
        "\n",
        "The previous example used the title as the embedding and metadata. Now, the exercise will involve using the content of the news as the embedding and the title as metadata. To achieve this, we need to consider that the texts can be very long, so we'll need to split them.\n",
        "\n",
        "First, let's delete the existing index to upload the content again."
      ]
    },
    {
      "cell_type": "code",
      "metadata": {
        "id": "tvG-59DzdnAw"
      },
      "source": [
        "name_index = 'article'\n",
        "for index in pc.list_indexes():\n",
        "    pc.delete_index(index.get('name'))\n",
        "\n",
        "pc.create_index(\n",
        "    name=name_index,\n",
        "    dimension=1536,\n",
        "    metric=\"cosine\",\n",
        "    spec=PodSpec(\n",
        "        environment='us-west1-gcp',\n",
        "        pod_type='p1.x1'\n",
        "    )\n",
        ")\n",
        "index = pc.Index(name_index)"
      ],
      "execution_count": 16,
      "outputs": []
    },
    {
      "cell_type": "markdown",
      "metadata": {
        "id": "VKe0rZwLdnAw"
      },
      "source": [
        "We'll reuse the data, but modify the `get_embeddings` function because the previous one only accepted a string. However, when the text passes through `text_splitter`, it will return a list of strings, each of which must be uploaded individually to Pinecone."
      ]
    },
    {
      "cell_type": "code",
      "metadata": {
        "id": "lp578eY5dnAw",
        "outputId": "88b6cb8f-e89c-40af-eedd-acf40e97b0e1",
        "colab": {
          "base_uri": "https://localhost:8080/"
        }
      },
      "source": [
        "from langchain.text_splitter import RecursiveCharacterTextSplitter\n",
        "\n",
        "text_splitter = RecursiveCharacterTextSplitter(\n",
        "    chunk_size=400, chunk_overlap=20\n",
        ")\n",
        "\n",
        "articles = df['article'].values\n",
        "titles = df['title'].values\n",
        "\n",
        "def get_embeddings(articles, model=\"text-embedding-ada-002\"):\n",
        "   return openai_client.embeddings.create(input = articles, model=model)\n",
        "\n",
        "def embed(embed_index, embeddings, title):\n",
        "    for embedding in embeddings:\n",
        "        _id = str(uuid.uuid1())\n",
        "        values = embedding.embedding\n",
        "        metadata = {'title': title}\n",
        "        embed_index.upsert([(_id, values, metadata)])\n",
        "\n",
        "for i, article in tqdm(enumerate(articles)):\n",
        "    if article is None:\n",
        "        continue\n",
        "    texts = text_splitter.split_text(article)\n",
        "    embeddings_texts = get_embeddings(texts)\n",
        "    embed(index, embeddings_texts, titles[i])"
      ],
      "execution_count": 17,
      "outputs": [
        {
          "output_type": "stream",
          "name": "stderr",
          "text": [
            "100it [03:32,  2.12s/it]\n"
          ]
        }
      ]
    },
    {
      "cell_type": "markdown",
      "metadata": {
        "id": "StAV9616dnAw"
      },
      "source": [
        "<!-- Now that we have our index, we need to make queries. We'll reuse the `get_recommendations` function to find the vectors that match the query from highest to lowest. -->\n",
        "\n",
        "Unlike before, it will search within the articles for the most similar vectors. So, if an article is highly related to the query, the response will contain many matches corresponding to the same article. However, this is where we can use the metadata, as we can classify when each different article is mentioned."
      ]
    },
    {
      "cell_type": "code",
      "metadata": {
        "id": "kifG-bykdnAw",
        "outputId": "f885bc8e-c82a-4259-fe95-0a2893cd605d",
        "colab": {
          "base_uri": "https://localhost:8080/"
        }
      },
      "source": [
        "\n",
        "query = \"Google and Innovation\"\n",
        "\n",
        "query_vector = get_embeddings(query)[0].embedding\n",
        "recommendation = index.query(\n",
        "    vector=query_vector,\n",
        "    top_k=10,\n",
        "    include_metadata=True\n",
        ")\n",
        "seen = {}\n",
        "for r in recommendation.matches:\n",
        "    title = r.metadata['title']\n",
        "    if title not in seen:\n",
        "        print(f\"Score: {r.score} \\t Title: {title}\")\n",
        "        seen[title] = \".\""
      ],
      "execution_count": 31,
      "outputs": [
        {
          "output_type": "stream",
          "name": "stdout",
          "text": [
            "Score: 0.85244596 \t Title: Forget Facebook, Amazon or Google. Up-and-coming top tech talent is opting for startups.\n",
            "Score: 0.829930842 \t Title: How to watch the Google I/O keynote live\n",
            "Score: 0.816107273 \t Title: Peter Thiel vs. the FDA\n",
            "Score: 0.814742863 \t Title: How love and marriage are changing, according to 63,000 New York Times wedding announcements\n"
          ]
        }
      ]
    }
  ],
  "metadata": {
    "kernelspec": {
      "name": "python3",
      "language": "python",
      "display_name": "Python 3 (ipykernel)"
    },
    "colab": {
      "provenance": [],
      "include_colab_link": true
    }
  },
  "nbformat": 4,
  "nbformat_minor": 0
}