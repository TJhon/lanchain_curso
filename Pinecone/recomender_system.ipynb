{
  "cells": [
    {
      "cell_type": "markdown",
      "metadata": {
        "id": "view-in-github",
        "colab_type": "text"
      },
      "source": [
        "<a href=\"https://colab.research.google.com/github/TJhon/lanchain_curso/blob/day3/Pinecone/recomender_system.ipynb\" target=\"_parent\"><img src=\"https://colab.research.google.com/assets/colab-badge.svg\" alt=\"Open In Colab\"/></a>"
      ]
    },
    {
      "cell_type": "code",
      "metadata": {
        "id": "agpWjV4YdnAp",
        "colab": {
          "base_uri": "https://localhost:8080/"
        },
        "outputId": "117c1b6b-6ccc-4cf5-ac7c-d7362a6d1351"
      },
      "source": [
        "%pip install  pinecone-client openai numpy pandas langchain tiktoken -q"
      ],
      "execution_count": 1,
      "outputs": [
        {
          "output_type": "stream",
          "name": "stdout",
          "text": [
            "\u001b[2K     \u001b[90m━━━━━━━━━━━━━━━━━━━━━━━━━━━━━━━━━━━━━━━━\u001b[0m \u001b[32m201.4/201.4 kB\u001b[0m \u001b[31m5.8 MB/s\u001b[0m eta \u001b[36m0:00:00\u001b[0m\n",
            "\u001b[2K     \u001b[90m━━━━━━━━━━━━━━━━━━━━━━━━━━━━━━━━━━━━━━━━\u001b[0m \u001b[32m226.7/226.7 kB\u001b[0m \u001b[31m19.0 MB/s\u001b[0m eta \u001b[36m0:00:00\u001b[0m\n",
            "\u001b[2K     \u001b[90m━━━━━━━━━━━━━━━━━━━━━━━━━━━━━━━━━━━━━━━━\u001b[0m \u001b[32m815.9/815.9 kB\u001b[0m \u001b[31m40.0 MB/s\u001b[0m eta \u001b[36m0:00:00\u001b[0m\n",
            "\u001b[2K     \u001b[90m━━━━━━━━━━━━━━━━━━━━━━━━━━━━━━━━━━━━━━━━\u001b[0m \u001b[32m75.9/75.9 kB\u001b[0m \u001b[31m9.6 MB/s\u001b[0m eta \u001b[36m0:00:00\u001b[0m\n",
            "\u001b[2K     \u001b[90m━━━━━━━━━━━━━━━━━━━━━━━━━━━━━━━━━━━━━━━━\u001b[0m \u001b[32m1.7/1.7 MB\u001b[0m \u001b[31m47.1 MB/s\u001b[0m eta \u001b[36m0:00:00\u001b[0m\n",
            "\u001b[2K     \u001b[90m━━━━━━━━━━━━━━━━━━━━━━━━━━━━━━━━━━━━━━━━\u001b[0m \u001b[32m241.2/241.2 kB\u001b[0m \u001b[31m24.7 MB/s\u001b[0m eta \u001b[36m0:00:00\u001b[0m\n",
            "\u001b[2K     \u001b[90m━━━━━━━━━━━━━━━━━━━━━━━━━━━━━━━━━━━━━━━━\u001b[0m \u001b[32m56.5/56.5 kB\u001b[0m \u001b[31m6.2 MB/s\u001b[0m eta \u001b[36m0:00:00\u001b[0m\n",
            "\u001b[2K     \u001b[90m━━━━━━━━━━━━━━━━━━━━━━━━━━━━━━━━━━━━━━━━\u001b[0m \u001b[32m49.4/49.4 kB\u001b[0m \u001b[31m6.1 MB/s\u001b[0m eta \u001b[36m0:00:00\u001b[0m\n",
            "\u001b[2K     \u001b[90m━━━━━━━━━━━━━━━━━━━━━━━━━━━━━━━━━━━━━━━━\u001b[0m \u001b[32m77.0/77.0 kB\u001b[0m \u001b[31m9.8 MB/s\u001b[0m eta \u001b[36m0:00:00\u001b[0m\n",
            "\u001b[2K     \u001b[90m━━━━━━━━━━━━━━━━━━━━━━━━━━━━━━━━━━━━━━━━\u001b[0m \u001b[32m58.3/58.3 kB\u001b[0m \u001b[31m5.5 MB/s\u001b[0m eta \u001b[36m0:00:00\u001b[0m\n",
            "\u001b[2K     \u001b[90m━━━━━━━━━━━━━━━━━━━━━━━━━━━━━━━━━━━━━━━━\u001b[0m \u001b[32m55.4/55.4 kB\u001b[0m \u001b[31m4.1 MB/s\u001b[0m eta \u001b[36m0:00:00\u001b[0m\n",
            "\u001b[?25h\u001b[31mERROR: pip's dependency resolver does not currently take into account all the packages that are installed. This behaviour is the source of the following dependency conflicts.\n",
            "llmx 0.0.15a0 requires cohere, which is not installed.\n",
            "llmx 0.0.15a0 requires tiktoken, which is not installed.\u001b[0m\u001b[31m\n",
            "\u001b[0m"
          ]
        }
      ]
    },
    {
      "cell_type": "markdown",
      "metadata": {
        "id": "ZO8trv6EdnAr"
      },
      "source": [
        "# Recommendation System\n",
        "\n",
        "## Pinecone\n",
        "\n",
        "Pinecone simplifies the provision of long-term memory for high-performance AI applications. It is a managed, cloud-native vector database with a straightforward API and no infrastructure complexities. Pinecone delivers fresh, filtered query results with low latency, capable of scaling to billions of vectors.\n",
        "\n",
        "## Preview\n",
        "\n",
        "To access the resource, you need to create an account on [Pinecone](https://app.pinecone.io/). Currently, only the free version will be used, which allows for only one index storage, sufficient for the exercise.\n",
        "\n",
        "Previously, two elements of Pinecone were needed to make queries. However, now only the Pinecone API key is required to handle vectors.\n",
        "\n",
        "### Creating API KEY\n",
        "\n",
        "Login Pinecone\n",
        "\n",
        "![](https://github.com/TJhon/lanchain_curso/blob/day3/Pinecone/figs/login-pinecone.png?raw=1)\n",
        "\n",
        "Create Api Key\n",
        "\n",
        "![](https://github.com/TJhon/lanchain_curso/blob/day3/Pinecone/figs/api-key.png?raw=1)\n",
        "\n",
        "![](https://github.com/TJhon/lanchain_curso/blob/day3/Pinecone/figs/create_api-key.png?raw=1)\n",
        "\n",
        "Save Api Key\n",
        "\n",
        "![](https://github.com/TJhon/lanchain_curso/blob/day3/Pinecone/figs/save-api-key.png?raw=1)\n",
        "\n",
        "## How to Use\n",
        "\n",
        "To create the index in Pinecone, we need to import the necessary methods. Additionally, we must create the OpenAI client to generate embeddings (remember that embeddings are the vector representation of content).\n",
        "\n",
        "In this specific case, we are deleting all existing indexes with `pc.delete_index` in Pinecone because we can only have one in the free version. Additionally, we define the index name as `nameindex` and create the index (index creation typically takes between 1 to 3 minutes). Finally, we define our `index` to make queries."
      ]
    },
    {
      "cell_type": "code",
      "metadata": {
        "id": "Gq4zrzQ_dnAt"
      },
      "source": [
        "# pinecone\n",
        "from pinecone import Pinecone, PodSpec\n",
        "from google.colab import userdata\n",
        "\n",
        "pc_api_key = userdata.get(\"PINECONE_API_KEY\")\n",
        "pc = Pinecone(api_key=pc_api_key)\n",
        "\n",
        "nameindex = \"recommended\"\n",
        "for index in pc.list_indexes():\n",
        "  pc.delete_index(index.get('name'))\n",
        "\n",
        "pc.create_index(\n",
        "    name=nameindex,\n",
        "    dimension=1536,\n",
        "    metric=\"cosine\",\n",
        "    spec=PodSpec(\n",
        "        environment='us-west1-gcp',\n",
        "        pod_type='p1.x1'\n",
        "    )\n",
        ")\n",
        "# define the endpoint\n",
        "index = pc.Index(nameindex)"
      ],
      "execution_count": 2,
      "outputs": []
    },
    {
      "cell_type": "code",
      "metadata": {
        "id": "bh7-lxeYdnAt"
      },
      "source": [
        "from openai import OpenAI\n",
        "\n",
        "OPENAI_API_KEY = userdata.get('OPENAI_API_KEY')\n",
        "openai_client = OpenAI(api_key=OPENAI_API_KEY)"
      ],
      "execution_count": 3,
      "outputs": []
    },
    {
      "cell_type": "markdown",
      "metadata": {
        "id": "GPhvSCASdnAt"
      },
      "source": [
        "To better understand what embeddings are, let's create them with OpenAI. First, we need to call the embeddings method and create the embeddings by providing the text and the model to use. OpenAI works with embeddings of 1536 elements, so each embedding must be a list of that same size. Within these embeddings, there is the element `data[0].embedding`, which is the value needed to upload to Pinecone as `value`.\n",
        "\n",
        "Para entender mejor que son los embedings, haremos la creacion de este con openai, primero tenemos que llamar al metodo de embeddings y crear el embeddings tomando el texto y el modelo a utilizar. Openai trabaja con un los embeddings de 1536 elementos, por lo que cada emebddings debe ser una lista de ese mismo tamanio. Dentro de este embeddings existe el elemmeto `data[0].embeddig` el cual es el valor que se necesita para poder subir a pinecone como `value`\n"
      ]
    },
    {
      "cell_type": "code",
      "metadata": {
        "id": "eDphNkE0dnAt"
      },
      "source": [
        "model_openai_e = \"text-embedding-ada-002\"\n",
        "embed = openai_client.embeddings.create(input='text', model=model_openai_e)\n",
        "# dir(embed)"
      ],
      "execution_count": 4,
      "outputs": []
    },
    {
      "cell_type": "code",
      "metadata": {
        "id": "5Tru_j4adnAu",
        "outputId": "4bf7beac-f9c2-4b45-9e98-c0b73b575989",
        "colab": {
          "base_uri": "https://localhost:8080/"
        }
      },
      "source": [
        "value = embed.data[0].embedding\n",
        "print(f\"\"\"value: {value[:10]}\\n length: {len(value)}\"\"\")"
      ],
      "execution_count": 5,
      "outputs": [
        {
          "output_type": "stream",
          "name": "stdout",
          "text": [
            "value: [-0.010077533312141895, -0.015133497305214405, 0.008619214408099651, -0.012760289944708347, 0.00478080939501524, 0.018903113901615143, -0.015326105058193207, -0.016440480947494507, -0.013750845566391945, -0.002245948649942875]\n",
            " length: 1536\n"
          ]
        }
      ]
    },
    {
      "cell_type": "markdown",
      "metadata": {
        "id": "7pLbRlJndnAu"
      },
      "source": [
        "Since this procedure will be repetitive, it will be included in a function."
      ]
    },
    {
      "cell_type": "code",
      "metadata": {
        "id": "AaCZurM5dnAu"
      },
      "source": [
        "def get_embeddings(input, model=model_openai_e):\n",
        "    embed = openai_client.embeddings.create(input='text', model=model_openai_e)\n",
        "    value = embed.data[0].embedding\n",
        "    return value"
      ],
      "execution_count": 6,
      "outputs": []
    },
    {
      "cell_type": "markdown",
      "metadata": {
        "id": "BbQCJwLAdnAu"
      },
      "source": [
        "In order to upload this vector to Pinecone, two additional elements are needed: the ID, which will serve as an identifier, and the metadata, which in Python is a dictionary and will be used for more precise queries.\n",
        "\n",
        "As an example, let's use a sample:"
      ]
    },
    {
      "cell_type": "code",
      "metadata": {
        "id": "Smpsf4eKdnAu"
      },
      "source": [
        "import numpy as np, time\n",
        "\n",
        "time.sleep(5)\n",
        "\n",
        "value_vector = np.random.rand(1536)  # length of vector\n",
        "metadata = {\n",
        "    \"test\": \"yes\",\n",
        "    \"title\": \"none\"\n",
        "}\n",
        "\n",
        "upsert_response = index.upsert(\n",
        "    vectors=[\n",
        "        (\"id_1\", value_vector, metadata)\n",
        "    ]\n",
        ")"
      ],
      "execution_count": 7,
      "outputs": []
    },
    {
      "cell_type": "markdown",
      "metadata": {
        "id": "6u7NNHnPdnAv"
      },
      "source": [
        "![](https://github.com/TJhon/lanchain_curso/blob/day3/Pinecone/figs/index-created.png?raw=1)\n",
        "![](https://github.com/TJhon/lanchain_curso/blob/day3/Pinecone/figs/data-inside-index.png?raw=1)\n",
        "\n",
        "In the Pinecone console, you can see that there is now an element with the values defined previously.\n",
        "\n",
        "## Example\n",
        "\n",
        "Let's use news data, which is available at the following [link](https://www.dropbox.com/scl/fi/wruzj2bwyg743d0jzd7ku/all-the-news-3.zip?rlkey=rgwtwpeznbdadpv3f01sznwxa&dl=1%22). To use it, we can directly execute this code, which will download a zip file and extract its contents into the current folder."
      ]
    },
    {
      "cell_type": "code",
      "metadata": {
        "id": "a21Rz51cdnAv",
        "outputId": "f263dc9c-08cf-49e5-d8e0-619710b4eb41",
        "colab": {
          "base_uri": "https://localhost:8080/"
        }
      },
      "source": [
        "!wget -q --show-progress -O all-the-news-3.zip \"https://www.dropbox.com/scl/fi/wruzj2bwyg743d0jzd7ku/all-the-news-3.zip?rlkey=rgwtwpeznbdadpv3f01sznwxa&dl=1\"\n",
        "\n",
        "!unzip all-the-news-3.zip"
      ],
      "execution_count": 8,
      "outputs": [
        {
          "output_type": "stream",
          "name": "stdout",
          "text": [
            "all-the-news-3.zip  100%[===================>] 166.04M  25.0MB/s    in 7.2s    \n",
            "Archive:  all-the-news-3.zip\n",
            "  inflating: all-the-news-3.csv      \n"
          ]
        }
      ]
    },
    {
      "cell_type": "markdown",
      "metadata": {
        "id": "jltOIuqYdnAv"
      },
      "source": [
        "The data is contained within a CSV file."
      ]
    },
    {
      "cell_type": "code",
      "metadata": {
        "id": "yZS42kxhdnAv",
        "outputId": "4519a2a5-9c75-41e7-fbd8-8ec1e415770b",
        "colab": {
          "base_uri": "https://localhost:8080/"
        }
      },
      "source": [
        "import pandas as pd\n",
        "df = pd.read_csv('./all-the-news-3.csv', nrows=99)\n",
        "print(df.columns, df.shape)"
      ],
      "execution_count": 9,
      "outputs": [
        {
          "output_type": "stream",
          "name": "stdout",
          "text": [
            "Index(['date', 'year', 'month', 'day', 'author', 'title', 'article', 'url',\n",
            "       'section', 'publication'],\n",
            "      dtype='object') (99, 10)\n"
          ]
        }
      ]
    },
    {
      "cell_type": "code",
      "metadata": {
        "id": "b_feteUednAv",
        "outputId": "73af0245-9b9f-48f3-bfe3-cad1037474f4",
        "colab": {
          "base_uri": "https://localhost:8080/",
          "height": 493
        }
      },
      "source": [
        "df.head(3)"
      ],
      "execution_count": 10,
      "outputs": [
        {
          "output_type": "execute_result",
          "data": {
            "text/plain": [
              "                  date  year  month  day       author  \\\n",
              "0  2016-12-09 18:31:00  2016   12.0    9  Lee Drutman   \n",
              "1  2016-10-07 21:26:46  2016   10.0    7  Scott Davis   \n",
              "2  2018-01-26 00:00:00  2018    1.0   26          NaN   \n",
              "\n",
              "                                               title  \\\n",
              "0  We should take concerns about the health of li...   \n",
              "1  Colts GM Ryan Grigson says Andrew Luck's contr...   \n",
              "2       Trump denies report he ordered Mueller fired   \n",
              "\n",
              "                                             article  \\\n",
              "0  This post is part of Polyarchy, an independent...   \n",
              "1   The Indianapolis Colts made Andrew Luck the h...   \n",
              "2  DAVOS, Switzerland (Reuters) - U.S. President ...   \n",
              "\n",
              "                                                 url section       publication  \n",
              "0  https://www.vox.com/polyarchy/2016/12/9/138983...     NaN               Vox  \n",
              "1  https://www.businessinsider.com/colts-gm-ryan-...     NaN  Business Insider  \n",
              "2  https://www.reuters.com/article/us-davos-meeti...   Davos           Reuters  "
            ],
            "text/html": [
              "\n",
              "  <div id=\"df-e0ea6b9a-384a-4c47-afc7-e5c5a2b18967\" class=\"colab-df-container\">\n",
              "    <div>\n",
              "<style scoped>\n",
              "    .dataframe tbody tr th:only-of-type {\n",
              "        vertical-align: middle;\n",
              "    }\n",
              "\n",
              "    .dataframe tbody tr th {\n",
              "        vertical-align: top;\n",
              "    }\n",
              "\n",
              "    .dataframe thead th {\n",
              "        text-align: right;\n",
              "    }\n",
              "</style>\n",
              "<table border=\"1\" class=\"dataframe\">\n",
              "  <thead>\n",
              "    <tr style=\"text-align: right;\">\n",
              "      <th></th>\n",
              "      <th>date</th>\n",
              "      <th>year</th>\n",
              "      <th>month</th>\n",
              "      <th>day</th>\n",
              "      <th>author</th>\n",
              "      <th>title</th>\n",
              "      <th>article</th>\n",
              "      <th>url</th>\n",
              "      <th>section</th>\n",
              "      <th>publication</th>\n",
              "    </tr>\n",
              "  </thead>\n",
              "  <tbody>\n",
              "    <tr>\n",
              "      <th>0</th>\n",
              "      <td>2016-12-09 18:31:00</td>\n",
              "      <td>2016</td>\n",
              "      <td>12.0</td>\n",
              "      <td>9</td>\n",
              "      <td>Lee Drutman</td>\n",
              "      <td>We should take concerns about the health of li...</td>\n",
              "      <td>This post is part of Polyarchy, an independent...</td>\n",
              "      <td>https://www.vox.com/polyarchy/2016/12/9/138983...</td>\n",
              "      <td>NaN</td>\n",
              "      <td>Vox</td>\n",
              "    </tr>\n",
              "    <tr>\n",
              "      <th>1</th>\n",
              "      <td>2016-10-07 21:26:46</td>\n",
              "      <td>2016</td>\n",
              "      <td>10.0</td>\n",
              "      <td>7</td>\n",
              "      <td>Scott Davis</td>\n",
              "      <td>Colts GM Ryan Grigson says Andrew Luck's contr...</td>\n",
              "      <td>The Indianapolis Colts made Andrew Luck the h...</td>\n",
              "      <td>https://www.businessinsider.com/colts-gm-ryan-...</td>\n",
              "      <td>NaN</td>\n",
              "      <td>Business Insider</td>\n",
              "    </tr>\n",
              "    <tr>\n",
              "      <th>2</th>\n",
              "      <td>2018-01-26 00:00:00</td>\n",
              "      <td>2018</td>\n",
              "      <td>1.0</td>\n",
              "      <td>26</td>\n",
              "      <td>NaN</td>\n",
              "      <td>Trump denies report he ordered Mueller fired</td>\n",
              "      <td>DAVOS, Switzerland (Reuters) - U.S. President ...</td>\n",
              "      <td>https://www.reuters.com/article/us-davos-meeti...</td>\n",
              "      <td>Davos</td>\n",
              "      <td>Reuters</td>\n",
              "    </tr>\n",
              "  </tbody>\n",
              "</table>\n",
              "</div>\n",
              "    <div class=\"colab-df-buttons\">\n",
              "\n",
              "  <div class=\"colab-df-container\">\n",
              "    <button class=\"colab-df-convert\" onclick=\"convertToInteractive('df-e0ea6b9a-384a-4c47-afc7-e5c5a2b18967')\"\n",
              "            title=\"Convert this dataframe to an interactive table.\"\n",
              "            style=\"display:none;\">\n",
              "\n",
              "  <svg xmlns=\"http://www.w3.org/2000/svg\" height=\"24px\" viewBox=\"0 -960 960 960\">\n",
              "    <path d=\"M120-120v-720h720v720H120Zm60-500h600v-160H180v160Zm220 220h160v-160H400v160Zm0 220h160v-160H400v160ZM180-400h160v-160H180v160Zm440 0h160v-160H620v160ZM180-180h160v-160H180v160Zm440 0h160v-160H620v160Z\"/>\n",
              "  </svg>\n",
              "    </button>\n",
              "\n",
              "  <style>\n",
              "    .colab-df-container {\n",
              "      display:flex;\n",
              "      gap: 12px;\n",
              "    }\n",
              "\n",
              "    .colab-df-convert {\n",
              "      background-color: #E8F0FE;\n",
              "      border: none;\n",
              "      border-radius: 50%;\n",
              "      cursor: pointer;\n",
              "      display: none;\n",
              "      fill: #1967D2;\n",
              "      height: 32px;\n",
              "      padding: 0 0 0 0;\n",
              "      width: 32px;\n",
              "    }\n",
              "\n",
              "    .colab-df-convert:hover {\n",
              "      background-color: #E2EBFA;\n",
              "      box-shadow: 0px 1px 2px rgba(60, 64, 67, 0.3), 0px 1px 3px 1px rgba(60, 64, 67, 0.15);\n",
              "      fill: #174EA6;\n",
              "    }\n",
              "\n",
              "    .colab-df-buttons div {\n",
              "      margin-bottom: 4px;\n",
              "    }\n",
              "\n",
              "    [theme=dark] .colab-df-convert {\n",
              "      background-color: #3B4455;\n",
              "      fill: #D2E3FC;\n",
              "    }\n",
              "\n",
              "    [theme=dark] .colab-df-convert:hover {\n",
              "      background-color: #434B5C;\n",
              "      box-shadow: 0px 1px 3px 1px rgba(0, 0, 0, 0.15);\n",
              "      filter: drop-shadow(0px 1px 2px rgba(0, 0, 0, 0.3));\n",
              "      fill: #FFFFFF;\n",
              "    }\n",
              "  </style>\n",
              "\n",
              "    <script>\n",
              "      const buttonEl =\n",
              "        document.querySelector('#df-e0ea6b9a-384a-4c47-afc7-e5c5a2b18967 button.colab-df-convert');\n",
              "      buttonEl.style.display =\n",
              "        google.colab.kernel.accessAllowed ? 'block' : 'none';\n",
              "\n",
              "      async function convertToInteractive(key) {\n",
              "        const element = document.querySelector('#df-e0ea6b9a-384a-4c47-afc7-e5c5a2b18967');\n",
              "        const dataTable =\n",
              "          await google.colab.kernel.invokeFunction('convertToInteractive',\n",
              "                                                    [key], {});\n",
              "        if (!dataTable) return;\n",
              "\n",
              "        const docLinkHtml = 'Like what you see? Visit the ' +\n",
              "          '<a target=\"_blank\" href=https://colab.research.google.com/notebooks/data_table.ipynb>data table notebook</a>'\n",
              "          + ' to learn more about interactive tables.';\n",
              "        element.innerHTML = '';\n",
              "        dataTable['output_type'] = 'display_data';\n",
              "        await google.colab.output.renderOutput(dataTable, element);\n",
              "        const docLink = document.createElement('div');\n",
              "        docLink.innerHTML = docLinkHtml;\n",
              "        element.appendChild(docLink);\n",
              "      }\n",
              "    </script>\n",
              "  </div>\n",
              "\n",
              "\n",
              "<div id=\"df-22d0e8dc-699c-4f12-ad39-0c69019c47e2\">\n",
              "  <button class=\"colab-df-quickchart\" onclick=\"quickchart('df-22d0e8dc-699c-4f12-ad39-0c69019c47e2')\"\n",
              "            title=\"Suggest charts\"\n",
              "            style=\"display:none;\">\n",
              "\n",
              "<svg xmlns=\"http://www.w3.org/2000/svg\" height=\"24px\"viewBox=\"0 0 24 24\"\n",
              "     width=\"24px\">\n",
              "    <g>\n",
              "        <path d=\"M19 3H5c-1.1 0-2 .9-2 2v14c0 1.1.9 2 2 2h14c1.1 0 2-.9 2-2V5c0-1.1-.9-2-2-2zM9 17H7v-7h2v7zm4 0h-2V7h2v10zm4 0h-2v-4h2v4z\"/>\n",
              "    </g>\n",
              "</svg>\n",
              "  </button>\n",
              "\n",
              "<style>\n",
              "  .colab-df-quickchart {\n",
              "      --bg-color: #E8F0FE;\n",
              "      --fill-color: #1967D2;\n",
              "      --hover-bg-color: #E2EBFA;\n",
              "      --hover-fill-color: #174EA6;\n",
              "      --disabled-fill-color: #AAA;\n",
              "      --disabled-bg-color: #DDD;\n",
              "  }\n",
              "\n",
              "  [theme=dark] .colab-df-quickchart {\n",
              "      --bg-color: #3B4455;\n",
              "      --fill-color: #D2E3FC;\n",
              "      --hover-bg-color: #434B5C;\n",
              "      --hover-fill-color: #FFFFFF;\n",
              "      --disabled-bg-color: #3B4455;\n",
              "      --disabled-fill-color: #666;\n",
              "  }\n",
              "\n",
              "  .colab-df-quickchart {\n",
              "    background-color: var(--bg-color);\n",
              "    border: none;\n",
              "    border-radius: 50%;\n",
              "    cursor: pointer;\n",
              "    display: none;\n",
              "    fill: var(--fill-color);\n",
              "    height: 32px;\n",
              "    padding: 0;\n",
              "    width: 32px;\n",
              "  }\n",
              "\n",
              "  .colab-df-quickchart:hover {\n",
              "    background-color: var(--hover-bg-color);\n",
              "    box-shadow: 0 1px 2px rgba(60, 64, 67, 0.3), 0 1px 3px 1px rgba(60, 64, 67, 0.15);\n",
              "    fill: var(--button-hover-fill-color);\n",
              "  }\n",
              "\n",
              "  .colab-df-quickchart-complete:disabled,\n",
              "  .colab-df-quickchart-complete:disabled:hover {\n",
              "    background-color: var(--disabled-bg-color);\n",
              "    fill: var(--disabled-fill-color);\n",
              "    box-shadow: none;\n",
              "  }\n",
              "\n",
              "  .colab-df-spinner {\n",
              "    border: 2px solid var(--fill-color);\n",
              "    border-color: transparent;\n",
              "    border-bottom-color: var(--fill-color);\n",
              "    animation:\n",
              "      spin 1s steps(1) infinite;\n",
              "  }\n",
              "\n",
              "  @keyframes spin {\n",
              "    0% {\n",
              "      border-color: transparent;\n",
              "      border-bottom-color: var(--fill-color);\n",
              "      border-left-color: var(--fill-color);\n",
              "    }\n",
              "    20% {\n",
              "      border-color: transparent;\n",
              "      border-left-color: var(--fill-color);\n",
              "      border-top-color: var(--fill-color);\n",
              "    }\n",
              "    30% {\n",
              "      border-color: transparent;\n",
              "      border-left-color: var(--fill-color);\n",
              "      border-top-color: var(--fill-color);\n",
              "      border-right-color: var(--fill-color);\n",
              "    }\n",
              "    40% {\n",
              "      border-color: transparent;\n",
              "      border-right-color: var(--fill-color);\n",
              "      border-top-color: var(--fill-color);\n",
              "    }\n",
              "    60% {\n",
              "      border-color: transparent;\n",
              "      border-right-color: var(--fill-color);\n",
              "    }\n",
              "    80% {\n",
              "      border-color: transparent;\n",
              "      border-right-color: var(--fill-color);\n",
              "      border-bottom-color: var(--fill-color);\n",
              "    }\n",
              "    90% {\n",
              "      border-color: transparent;\n",
              "      border-bottom-color: var(--fill-color);\n",
              "    }\n",
              "  }\n",
              "</style>\n",
              "\n",
              "  <script>\n",
              "    async function quickchart(key) {\n",
              "      const quickchartButtonEl =\n",
              "        document.querySelector('#' + key + ' button');\n",
              "      quickchartButtonEl.disabled = true;  // To prevent multiple clicks.\n",
              "      quickchartButtonEl.classList.add('colab-df-spinner');\n",
              "      try {\n",
              "        const charts = await google.colab.kernel.invokeFunction(\n",
              "            'suggestCharts', [key], {});\n",
              "      } catch (error) {\n",
              "        console.error('Error during call to suggestCharts:', error);\n",
              "      }\n",
              "      quickchartButtonEl.classList.remove('colab-df-spinner');\n",
              "      quickchartButtonEl.classList.add('colab-df-quickchart-complete');\n",
              "    }\n",
              "    (() => {\n",
              "      let quickchartButtonEl =\n",
              "        document.querySelector('#df-22d0e8dc-699c-4f12-ad39-0c69019c47e2 button');\n",
              "      quickchartButtonEl.style.display =\n",
              "        google.colab.kernel.accessAllowed ? 'block' : 'none';\n",
              "    })();\n",
              "  </script>\n",
              "</div>\n",
              "\n",
              "    </div>\n",
              "  </div>\n"
            ],
            "application/vnd.google.colaboratory.intrinsic+json": {
              "type": "dataframe",
              "variable_name": "df",
              "summary": "{\n  \"name\": \"df\",\n  \"rows\": 99,\n  \"fields\": [\n    {\n      \"column\": \"date\",\n      \"properties\": {\n        \"dtype\": \"object\",\n        \"min\": \"2016-01-08 00:00:00\",\n        \"max\": \"2019-07-12 00:00:00\",\n        \"samples\": [\n          \"2017-06-30 00:00:00\",\n          \"2018-05-17 18:33:00\",\n          \"2017-10-16 00:00:00\"\n        ],\n        \"num_unique_values\": 94,\n        \"semantic_type\": \"\",\n        \"description\": \"\"\n      }\n    },\n    {\n      \"column\": \"year\",\n      \"properties\": {\n        \"dtype\": \"number\",\n        \"std\": 1,\n        \"min\": 2016,\n        \"max\": 2019,\n        \"samples\": [\n          2018,\n          2017,\n          2016\n        ],\n        \"num_unique_values\": 4,\n        \"semantic_type\": \"\",\n        \"description\": \"\"\n      }\n    },\n    {\n      \"column\": \"month\",\n      \"properties\": {\n        \"dtype\": \"number\",\n        \"std\": 3.2251459947234906,\n        \"min\": 1.0,\n        \"max\": 12.0,\n        \"samples\": [\n          4.0,\n          2.0,\n          12.0\n        ],\n        \"num_unique_values\": 12,\n        \"semantic_type\": \"\",\n        \"description\": \"\"\n      }\n    },\n    {\n      \"column\": \"day\",\n      \"properties\": {\n        \"dtype\": \"number\",\n        \"std\": 9,\n        \"min\": 1,\n        \"max\": 31,\n        \"samples\": [\n          14,\n          30,\n          16\n        ],\n        \"num_unique_values\": 30,\n        \"semantic_type\": \"\",\n        \"description\": \"\"\n      }\n    },\n    {\n      \"column\": \"author\",\n      \"properties\": {\n        \"dtype\": \"string\",\n        \"samples\": [\n          \"Rod Nickel, Nia Williams\",\n          \"Andrew MacAskill, Simon Jessop\",\n          \"Tim Hume\"\n        ],\n        \"num_unique_values\": 67,\n        \"semantic_type\": \"\",\n        \"description\": \"\"\n      }\n    },\n    {\n      \"column\": \"title\",\n      \"properties\": {\n        \"dtype\": \"string\",\n        \"samples\": [\n          \"The Best Christmas Music Knows This Is a Sad Time of Year\",\n          \"Turkey's Death Metal Scene Thrives Despite Government Repression\\n\",\n          \"Switzerland's SoftwareONE mandates banks for IPO - sources\"\n        ],\n        \"num_unique_values\": 99,\n        \"semantic_type\": \"\",\n        \"description\": \"\"\n      }\n    },\n    {\n      \"column\": \"article\",\n      \"properties\": {\n        \"dtype\": \"string\",\n        \"samples\": [\n          \"Open Thread is a daily feature where Waypoint staff talk about games and other things we find interesting. This is where you'll see us chat about movies, TV, and even sports, and welcome you to participate in the discussion. I love Christmas music. I know, a lot of it is grating and it\\u2019s been effectively weaponized by our Christmas, Inc. consumer culture, a sonic assault sent ahead of the credit card statements to force merriment and \\u201cChristmas Spirit\\u201d on people\\u2014of any and all beliefs\\u2014that find themselves in its path. If you\\u2019re feeling a bit blue this time of year, or if\\u2014like in my family\\u2014a lot of losses have attended this time of year, Christmas music can sound at best inappropriate and at worst positively mocking. And yet: starting around Thanksgiving I have an insatiable need to hear Frank Sinatra loving those J-I-N-G-L-E BELLS off an antique piece of vinyl with predictable, well-known scratches. John Denver  and The Muppets? Sign me right the fuck up. I just submit myself to the Boomer cultural hegemony around the holiday season, unironically enjoying Perry Fucking Como\\u2019s sentimental Christmas dirges, or Dean Martin sounding genuinely delighted to find himself in a \\u201cMarshmallow World\\u201d. But my  favorite music to listen to around this time of year is the music the leans all the way into the bittersweet nature of the holidays, and the sharp juxtapositions you get between personal struggle and public celebration. I\\u2019m the guy who, on Dec. 24th with the family gathered all around, is putting Low\\u2019s  Christmas on the CD player so we can all listen to the Gothic menace of \\u201cLong Way Around the Sea\\u201d. Or if I  really want to bring the eggnog and gift exchange to complete halt, I like to blast Stan Rogers\\u2019 \\u201cFirst Christmas\\u201d which always has a couple verses that leave me wrecked. The \\u201cnon-traditional\\u201d song I probably look forward to the most is one of the hardest to find: Marcia Ball and Marian McPartland\\u2019s \\u201cChristmas Is Just Another Day\\u201d, which is just a great, sparse jazz song about feeling like you\\u2019re stuck on the outside looking in at rituals of the holidays. I\\u2019ve only ever found it on  An NPR Jazz Christmas (which is way better than it sounds). What about you? What are your favorite holiday jams, ironic or unironic? Let me know in today's open thread!\",\n          \"It's never been easy to be a metalhead in Turkey, where they're forced to exist under the ominous glare of a conservative culture and a state riddled with authoritarian tendencies. A lack of venues has plagued the country's DIY music scenes even in its biggest cities, and the few that do open their doors to metal music often have terrible sound systems. But these setbacks haven't stopped a vibrant underground metal scene from flourishing in Turkey, where a handful of active groups are playing killer black and death metal. Turkey is firmly under the control of President Recep Tayyip Erdo\\u011fan, whose AK Parti party has led the country for a decade and a half, dominating the political arena; they've become known for their violent repression of the country's Kurdish population, and lack of hesitation to jail dissidents on the flimsiest of charges (including actual elected members of parliament). Now, a critical election is approaching, one that Erdo\\u011fan called over a year early. If elected again, he will preside over a newly-installed presidential system designed to grant him even more power, and the suffocating chokehold he has over the country will remain for years to come. Add all that to a Turkish lira that has been plummeting rapidly this year, and you get an atmosphere that feels mildly apocalyptic\\u2014something that has bled into its underground metal scene. Despite its authoritarian government, Turkey is no Turkmenistan or North Korea, and there is still just enough freedom and space for underground scenes to thrive. The vitality of the underground metal scene was no more evident than at a recent festival in Ankara that brought 14 bands to the stage over the course of two days. Hundreds of metalheads came out, many traveling from cultural capital Istanbul. Showcased were among some of the country's best active metal units, who delivered passionate and thunderous performances in a basement rock bar where the stage was buttressed with a row of barrels that seemed to encourage stage-diving and crowd surfing. Not every band featured below appeared at the festival that weekend, but all are among the most important and exciting of their kind active today. Though opportunities to play are indeed few and far between, this hasn't thwarted Turkey's underground metal groups from cultivating a rich scene. They rage on.  Perhaps the most brutal performance of the weekend came from Engulfed, an Istanbul death metal quartet that formed in 2010. Hot off 2017's debut LP,  Engulfed in Obscurity, the band ripped through an airtight set and sounded like a pack of speed-addled rhinos pounding down a dusty road. Vocalist/bassist Serkan elaborately described the band's sound as, \\u201cthe noise you hear while being dragged inside a dark tunnel, when everything positive in the universe is annihilated within eternal darkness, while taking pleasure in suffering and when everything sacred is being mercilessly destroyed.\\u201d  The band's usually frenetic pace is punctuated by slow, grim breakdowns laced with demonically appealing leads. Serkan cites visa problems as being one of the major inhibitors of the scene, preventing Turkish band from showcasing their sound abroad (Turks have to apply for Schengen visas to visit Europe; the application fees are expensive and arbitrary rejections are common.) Nevertheless, he appreciates the close-knit ties that bind the scene together and keep them motivated. \\u201cThe numbers are small, but we have a metal scene composed of friends that are totally connected and look out for one another,\\u201d Serkan says.  Another powerfully talented Istanbul death metal outdit, Diabolizer, shares two members with Engulfed but opts to take more of a gratuitous, exuberant approach that doesn't lack in brutality. Their most recent effort is 2016's bruiser   Apokalypse  EP. Defiant, cackling melodic guitar parts dance effortlessly around a bottomless pit of doom. Headbangers in Ankara and Istanbul have been fortunate enough to catch the dazzling Diabolizer on stage at recent shows this year.  Perhaps the most eagerly-awaited band of the festival was Burial Invocation, which was formed in 2008 with roots in both Istanbul and Ankara. The four-piece's hotly anticipated debut full-length, Abiogenesis, is slated to come out later this year and blends savage vocals with manic drum work and impressive guitar trickery slathered in alternating dollops of brutality and melodic brilliance. European metalheads will be fortunate to catch the band across a number of countries on their tour of the continent in September and October of this year. \\u201cIn my opinion, being a metalhead in Turkey is great; there are a number of great albums that will be released soon and some fantastic shows coming up,\\u201d says guitarist Cihan. \\u201cThere are both new and old bands, the attendance at shows is good, and they are more soulful and fun than the underground shows I've seen in Europe.\\\" Laying down a raw, sharp blend of death metal that blends power and precision, Hellsodomy (which also shares members with Engulfed and toured Europe together last year) is yet another mainstay of Turkey's underground metal scene. Their 2016 eight-song full length,  Chaostorm, is a barrage of throat-shredding vocals, skull-pounding drums, and razor-sharp solos. \\u201cThere has been an increase in the attendance of shows, at every show there are people we haven't seen before. Though in a city of 15 million, the number of people coming out to a show is around 150. In a country with 81 provinces, we can only play in five,\\u201d guitarist Yunus says. On the positive side, \\u201cwe've created this fantastic world within our own realm and are working to take things to the next level.\\\" Described by vocalist \\u00c7a\\u011fatay as \\u201ctwisted, malignant metal\\u201d that will appeal to fans of black, death and thrash metal, Persecutory formed in Istanbul in 2014. After a year and a half hiatus, they roared back to the stage with an intense, memorable performance at the Ankara festival. Their debut LP,   Towards an Ultimate Extinction,  wastes no time descending into pure chaos and mayhem, laying the foundation for an absolutely catastrophic sound formed around \\u00c7agatay's anguished, searing vocals. \\u201cBeing a metalhead is not a hobby for me, it's an identity,\\u201d \\u00c7a\\u011fatay says, adding that many people in the scene end up losing interest entirely and then chastise active metalheads for their ongoing commitment. \\u201cApart from three or four small bars that we've played at, venue owners don't take metal shows seriously and do not want to host them,\\u201d he adds.  Sarinvomit's sound is as vile and dark as its name implies. Sharing vocalists with Persecutory, this Istanbul unit is hot off the release of their debut,   Malignant Thermonuclear Supremacy, a throttling, crackbrained blend of extreme metal. Here, bloodthirsty vocals, battleaxe guitars, and blastbeats that make even the listener's wrists feel sore converge in a truly punishing fashion.  Long-running scene stalwarts Decaying Purity have been at it since 2005, enduring a number of lineup changes while amassing several releases and appearing at various festivals across Europe. The band, which describes its sound as \\u201csickeningly brutal death metal punishment,\\u201d most recently released   Malignant Resurrection of the Fallen Souls,  a raging beast of an affair with filthy, venomous vocals and the impressive riff-repertoire of co-founder Mustafa, who also plays in Engulfed and Diabolizer. A new recording is reportedly in the works. Paul Benjamin Osterlund is a writer based in Istanbul; follow him on Twitter. \",\n          \"ZURICH, June 26 (Reuters) - Swiss software group SoftwareONE has mandated banks for an upcoming stock market flotation, sources told Reuters on Wednesday, paving the way for a potential multi-billion dollar listing this autumn.  Credit Suisse, UBS and JPMorgan have been hired to advise on the planned initial public offering as so-called global coordinators, sources familiar with the matter said. The IPO could take place in October, one of the people said. The firm is expected to be valued at several billion Swiss francs.  Credit Suisse and SoftwareONE declined to comment. UBS and JPMorgan could not immediately be reached for comment.  Since taking over German IT firm Comparex earlier this year, SoftwareONE employs around 5,500 people. The company, headquartered in Stans, Switzerland, helps companies manage an estimated 10 billion euros in software purchases from vendors such as Microsoft, Adobe and IBM. In 2015, KKR acquired a 25 percent stake in the company, the majority of which is still held by the company\\u2019s founders. (Reporting by Arno Schuetze and Oliver Hirt; writing by Brenna Hughes Neghaiwi; editing by David Evans)\"\n        ],\n        \"num_unique_values\": 99,\n        \"semantic_type\": \"\",\n        \"description\": \"\"\n      }\n    },\n    {\n      \"column\": \"url\",\n      \"properties\": {\n        \"dtype\": \"string\",\n        \"samples\": [\n          \"https://www.vice.com/en_us/article/yw5g5y/the-best-christmas-music-knows-this-is-a-sad-time-of-year\",\n          \"https://www.vice.com/en_us/article/bj3daq/turkeys-death-metal-scene-thrives-despite-government-repression\",\n          \"https://www.reuters.com/article/softwareone-ipo/switzerlands-softwareone-mandates-banks-for-ipo-sources-idUSZ8N18K01L\"\n        ],\n        \"num_unique_values\": 99,\n        \"semantic_type\": \"\",\n        \"description\": \"\"\n      }\n    },\n    {\n      \"column\": \"section\",\n      \"properties\": {\n        \"dtype\": \"category\",\n        \"samples\": [\n          \"Davos\",\n          \"The VICE Guide to the 2016 Election\",\n          \"Games\"\n        ],\n        \"num_unique_values\": 21,\n        \"semantic_type\": \"\",\n        \"description\": \"\"\n      }\n    },\n    {\n      \"column\": \"publication\",\n      \"properties\": {\n        \"dtype\": \"category\",\n        \"samples\": [\n          \"Vox\",\n          \"Business Insider\",\n          \"Vice News\"\n        ],\n        \"num_unique_values\": 7,\n        \"semantic_type\": \"\",\n        \"description\": \"\"\n      }\n    }\n  ]\n}"
            }
          },
          "metadata": {},
          "execution_count": 10
        }
      ]
    },
    {
      "cell_type": "markdown",
      "metadata": {
        "id": "PyttYJaodnAv"
      },
      "source": [
        "In this example, only a sample will be uploaded to Pinecone."
      ]
    },
    {
      "cell_type": "code",
      "metadata": {
        "id": "FtCwCjltdnAv"
      },
      "source": [
        "import numpy as np\n",
        "df = pd.read_csv('./all-the-news-3.csv', nrows=100)"
      ],
      "execution_count": 11,
      "outputs": []
    },
    {
      "cell_type": "markdown",
      "metadata": {
        "id": "FKFAGCcBdnAv"
      },
      "source": [
        "Remember that we need 3 elements - ID, vector, and metadata - to upload to Pinecone. We'll generate a function that generates an ID, the embedding of the news titles, and the metadata, all within a tuple."
      ]
    },
    {
      "cell_type": "code",
      "metadata": {
        "id": "w_V6V-7adnAv"
      },
      "source": [
        "import uuid\n",
        "\n",
        "def to_update(title: str):\n",
        "    _id = str(uuid.uuid1())[:12]\n",
        "    embed = get_embeddings(title)\n",
        "    metadata = {\n",
        "        \"title\": title\n",
        "    }\n",
        "    return _id, embed, metadata\n",
        "\n",
        "value = to_update(\"We should take concerns about the health ...\")"
      ],
      "execution_count": 12,
      "outputs": []
    },
    {
      "cell_type": "code",
      "metadata": {
        "id": "lChAiOSodnAw"
      },
      "source": [
        "from tqdm import tqdm\n",
        "\n",
        "titles = df['title'].values\n",
        "for title in titles:\n",
        "    value = to_update(title)\n",
        "    index.upsert(vectors = [value])"
      ],
      "execution_count": 13,
      "outputs": []
    },
    {
      "cell_type": "markdown",
      "metadata": {
        "id": "C0dyVgpkdnAw"
      },
      "source": [
        "To view recommendations from the database, we can make the request with the following prompt, where we specify in `vector` the query's embedding, `top_k` the number of items to display, and `include_metadata` to extract metadata that matches the vector."
      ]
    },
    {
      "cell_type": "code",
      "metadata": {
        "id": "5Kiip0VzdnAw"
      },
      "source": [
        "query_vector = get_embeddings(\"Google\")\n",
        "response = index.query(\n",
        "    vector=query_vector,\n",
        "    top_k=10,\n",
        "    include_metadata=True\n",
        ")\n",
        "\n"
      ],
      "execution_count": 14,
      "outputs": []
    },
    {
      "cell_type": "markdown",
      "metadata": {
        "id": "r1CS6d5pdnAw"
      },
      "source": [
        "Subsequently, we can see the score of how matching our vector recommendations are with the query embed, and we can also access the metadata."
      ]
    },
    {
      "cell_type": "code",
      "metadata": {
        "id": "k-J8Jem4dnAw",
        "outputId": "e510e604-be45-45ef-c284-c6a12c63df47",
        "colab": {
          "base_uri": "https://localhost:8080/"
        }
      },
      "source": [
        "print(response.matches)"
      ],
      "execution_count": 15,
      "outputs": [
        {
          "output_type": "stream",
          "name": "stdout",
          "text": [
            "[{'id': '2a7b0d0e-cb9',\n",
            " 'metadata': {'title': 'UK PM May presses on with bid to get Brexit deal '\n",
            "                       'through parliament: spokesman'},\n",
            " 'score': 1.0,\n",
            " 'values': []}, {'id': '2908afc6-cb9',\n",
            " 'metadata': {'title': \"Paris Hilton: Woman In Black For Uncle Monty's \"\n",
            "                       'Funeral'},\n",
            " 'score': 1.0,\n",
            " 'values': []}, {'id': '29232d10-cb9',\n",
            " 'metadata': {'title': \"ECB's Coeure: If we decide to cut rates, we'd have to \"\n",
            "                       'consider tiering'},\n",
            " 'score': 1.0,\n",
            " 'values': []}, {'id': '28b630b6-cb9',\n",
            " 'metadata': {'title': 'Trump denies report he ordered Mueller fired'},\n",
            " 'score': 1.0,\n",
            " 'values': []}, {'id': '296cc204-cb9',\n",
            " 'metadata': {'title': 'You Can Trick Your Brain Into Being More Focused'},\n",
            " 'score': 1.0,\n",
            " 'values': []}, {'id': '28df85c4-cb9',\n",
            " 'metadata': {'title': \"France's Sarkozy reveals his 'Passions' but insists no \"\n",
            "                       'come-back on cards'},\n",
            " 'score': 1.0,\n",
            " 'values': []}, {'id': '29d0d6ea-cb9',\n",
            " 'metadata': {'title': 'China is dismissing unfavorable media reports as fake '\n",
            "                       \"because that's what Trump does\"},\n",
            " 'score': 1.0,\n",
            " 'values': []}, {'id': '2b94ac86-cb9',\n",
            " 'metadata': {'title': 'Wells Fargo to pay $575 million in settlement with '\n",
            "                       'U.S. states'},\n",
            " 'score': 1.0,\n",
            " 'values': []}, {'id': '2abe8b4c-cb9',\n",
            " 'metadata': {'title': 'The government official in charge of ethics just '\n",
            "                       'harshly condemned Trump’s plan'},\n",
            " 'score': 1.0,\n",
            " 'values': []}, {'id': '2ad8e69a-cb9',\n",
            " 'metadata': {'title': 'Mark Zuckerberg’s WSJ op-ed was a message to would-be '\n",
            "                       'regulators: Hands off our ad business'},\n",
            " 'score': 1.0,\n",
            " 'values': []}]\n"
          ]
        }
      ]
    },
    {
      "cell_type": "markdown",
      "metadata": {
        "id": "jfZ3pXJCdnAw"
      },
      "source": [
        "## Large Texts\n",
        "\n",
        "The previous example used the title as the embedding and metadata. Now, the exercise will involve using the content of the news as the embedding and the title as metadata. To achieve this, we need to consider that the texts can be very long, so we'll need to split them.\n",
        "\n",
        "First, let's delete the existing index to upload the content again."
      ]
    },
    {
      "cell_type": "code",
      "metadata": {
        "id": "tvG-59DzdnAw"
      },
      "source": [
        "name_index = 'article'\n",
        "for index in pc.list_indexes():\n",
        "    pc.delete_index(index.get('name'))\n",
        "\n",
        "pc.create_index(\n",
        "    name=name_index,\n",
        "    dimension=1536,\n",
        "    metric=\"cosine\",\n",
        "    spec=PodSpec(\n",
        "        environment='us-west1-gcp',\n",
        "        pod_type='p1.x1'\n",
        "    )\n",
        ")\n",
        "index = pc.Index(name_index)"
      ],
      "execution_count": 16,
      "outputs": []
    },
    {
      "cell_type": "markdown",
      "metadata": {
        "id": "VKe0rZwLdnAw"
      },
      "source": [
        "We'll reuse the data, but modify the `get_embeddings` function because the previous one only accepted a string. However, when the text passes through `text_splitter`, it will return a list of strings, each of which must be uploaded individually to Pinecone."
      ]
    },
    {
      "cell_type": "code",
      "metadata": {
        "id": "lp578eY5dnAw",
        "outputId": "81db800c-164c-4e37-d5af-59a5243e13b5",
        "colab": {
          "base_uri": "https://localhost:8080/"
        }
      },
      "source": [
        "from langchain.text_splitter import RecursiveCharacterTextSplitter\n",
        "\n",
        "\n",
        "def get_embeddings(articles, model=\"text-embedding-ada-002\"):\n",
        "   return openai_client.embeddings.create(input = articles, model=model)\n",
        "\n",
        "def embed(embeddings, title, prepped, embed_num):\n",
        "  for embedding in embeddings.data:\n",
        "    prepped.append({'id':str(embed_num), 'values':embedding.embedding, 'metadata':{'title':title}})\n",
        "    embed_num += 1\n",
        "    if len(prepped) >= 100:\n",
        "        index.upsert(prepped)\n",
        "        prepped.clear()\n",
        "  return embed_num\n",
        "\n",
        "news_data_rows_num = 100\n",
        "\n",
        "embed_num = 0 #keep track of embedding number for 'id'\n",
        "text_splitter = RecursiveCharacterTextSplitter(chunk_size=400,\n",
        "    chunk_overlap=20) # how to chunk each article\n",
        "prepped = []\n",
        "\n",
        "articles_list = df['article'].values\n",
        "titles_list = df['title'].values\n",
        "\n",
        "for i in tqdm(range(0, len(articles_list))):\n",
        "    # print(\".\",end=\"\")\n",
        "    art = articles_list[i]\n",
        "    title = titles_list[i]\n",
        "    if art is not None and isinstance(art, str):\n",
        "      texts = text_splitter.split_text(art)\n",
        "      embeddings = get_embeddings(texts)\n",
        "      embed_num = embed(embeddings, title, prepped, embed_num)"
      ],
      "execution_count": 17,
      "outputs": [
        {
          "output_type": "stream",
          "name": "stderr",
          "text": [
            "100%|██████████| 100/100 [01:39<00:00,  1.01it/s]\n"
          ]
        }
      ]
    },
    {
      "cell_type": "markdown",
      "metadata": {
        "id": "StAV9616dnAw"
      },
      "source": [
        "<!-- Now that we have our index, we need to make queries. We'll reuse the `get_recommendations` function to find the vectors that match the query from highest to lowest. -->\n",
        "\n",
        "Unlike before, it will search within the articles for the most similar vectors. So, if an article is highly related to the query, the response will contain many matches corresponding to the same article. However, this is where we can use the metadata, as we can classify when each different article is mentioned."
      ]
    },
    {
      "cell_type": "code",
      "metadata": {
        "id": "kifG-bykdnAw",
        "outputId": "515a7e1a-62a0-4e0c-c654-808b6b58e14e",
        "colab": {
          "base_uri": "https://localhost:8080/"
        }
      },
      "source": [
        "def get_recommendations(pinecone_index, search_term, top_k=10):\n",
        "  embed = get_embeddings([search_term]).data[0].embedding\n",
        "  res = pinecone_index.query(vector=embed, top_k=top_k, include_metadata=True)\n",
        "  return res\n",
        "\n",
        "query = \"Google and Innovation\"\n",
        "reco = get_recommendations(index, query, top_k=10)\n",
        "seen = {}\n",
        "for r in reco.matches:\n",
        "    title = r.metadata['title']\n",
        "    if title not in seen:\n",
        "        print(f\"Score: {r.score} \\t Title: {title}\")\n",
        "        seen[title] = '.'\n"
      ],
      "execution_count": 18,
      "outputs": [
        {
          "output_type": "stream",
          "name": "stdout",
          "text": [
            "Score: 0.85238415 \t Title: Forget Facebook, Amazon or Google. Up-and-coming top tech talent is opting for startups.\n",
            "Score: 0.829823554 \t Title: How to watch the Google I/O keynote live\n",
            "Score: 0.816159368 \t Title: Peter Thiel vs. the FDA\n",
            "Score: 0.814539969 \t Title: How love and marriage are changing, according to 63,000 New York Times wedding announcements\n"
          ]
        }
      ]
    }
  ],
  "metadata": {
    "kernelspec": {
      "name": "python3",
      "language": "python",
      "display_name": "Python 3 (ipykernel)"
    },
    "colab": {
      "provenance": [],
      "include_colab_link": true
    }
  },
  "nbformat": 4,
  "nbformat_minor": 0
}